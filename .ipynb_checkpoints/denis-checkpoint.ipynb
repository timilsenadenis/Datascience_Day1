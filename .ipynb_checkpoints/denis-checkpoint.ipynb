{
 "cells": [
  {
   "cell_type": "markdown",
   "id": "62bfded0-364c-4072-8ef7-7a3d3b3363c6",
   "metadata": {},
   "source": [
    "## DAY 3\n"
   ]
  },
  {
   "cell_type": "markdown",
   "id": "634465c5-5d77-42b1-a560-1e4a8340d084",
   "metadata": {},
   "source": [
    "### Round Method\n"
   ]
  },
  {
   "cell_type": "code",
   "execution_count": 1,
   "id": "4d956c7c-53b0-41f3-84ac-1928401e0f41",
   "metadata": {},
   "outputs": [
    {
     "data": {
      "text/plain": [
       "12"
      ]
     },
     "execution_count": 1,
     "metadata": {},
     "output_type": "execute_result"
    }
   ],
   "source": [
    "round(12.232312)"
   ]
  },
  {
   "cell_type": "markdown",
   "id": "35c3a3b0-b88f-4f38-97e4-fc58c3eef1cf",
   "metadata": {},
   "source": [
    "## String type\n"
   ]
  },
  {
   "cell_type": "code",
   "execution_count": null,
   "id": "7d42511e-73ac-45eb-989b-93278641f254",
   "metadata": {},
   "outputs": [],
   "source": []
  }
 ],
 "metadata": {
  "kernelspec": {
   "display_name": "Python 3 (ipykernel)",
   "language": "python",
   "name": "python3"
  },
  "language_info": {
   "codemirror_mode": {
    "name": "ipython",
    "version": 3
   },
   "file_extension": ".py",
   "mimetype": "text/x-python",
   "name": "python",
   "nbconvert_exporter": "python",
   "pygments_lexer": "ipython3",
   "version": "3.12.1"
  }
 },
 "nbformat": 4,
 "nbformat_minor": 5
}
