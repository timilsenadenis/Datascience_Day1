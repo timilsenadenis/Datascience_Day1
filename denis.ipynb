{
 "cells": [
  {
   "cell_type": "markdown",
   "id": "62bfded0-364c-4072-8ef7-7a3d3b3363c6",
   "metadata": {
    "jp-MarkdownHeadingCollapsed": true
   },
   "source": [
    "## DAY 3\n"
   ]
  },
  {
   "cell_type": "markdown",
   "id": "634465c5-5d77-42b1-a560-1e4a8340d084",
   "metadata": {},
   "source": [
    "### Round Method\n"
   ]
  },
  {
   "cell_type": "code",
   "execution_count": 1,
   "id": "4d956c7c-53b0-41f3-84ac-1928401e0f41",
   "metadata": {},
   "outputs": [
    {
     "data": {
      "text/plain": [
       "12"
      ]
     },
     "execution_count": 1,
     "metadata": {},
     "output_type": "execute_result"
    }
   ],
   "source": [
    "round(12.232312)"
   ]
  },
  {
   "cell_type": "markdown",
   "id": "82de1606",
   "metadata": {},
   "source": [
    "## String type\n"
   ]
  },
  {
   "cell_type": "code",
   "execution_count": 8,
   "id": "7d42511e-73ac-45eb-989b-93278641f254",
   "metadata": {},
   "outputs": [
    {
     "data": {
      "text/plain": [
       "str"
      ]
     },
     "execution_count": 8,
     "metadata": {},
     "output_type": "execute_result"
    }
   ],
   "source": [
    "a='hELLo'\n",
    "b=\"denis\"\n",
    "type(a)\n",
    "type(b)"
   ]
  },
  {
   "cell_type": "code",
   "execution_count": 3,
   "id": "c39e6854-8290-49c5-b30e-3480265f5c71",
   "metadata": {},
   "outputs": [
    {
     "name": "stdout",
     "output_type": "stream",
     "text": [
      "hello\n"
     ]
    }
   ],
   "source": [
    "print(a)\n"
   ]
  },
  {
   "cell_type": "code",
   "execution_count": 4,
   "id": "ba61d137-60a2-461a-838c-52bb2c831f59",
   "metadata": {},
   "outputs": [
    {
     "name": "stdout",
     "output_type": "stream",
     "text": [
      "<class 'str'>\n"
     ]
    }
   ],
   "source": [
    "print(type(a))\n",
    "\n"
   ]
  },
  {
   "cell_type": "markdown",
   "id": "4608d409-9d0d-4e1f-874e-b36872f217b9",
   "metadata": {
    "jp-MarkdownHeadingCollapsed": true
   },
   "source": [
    "## string concatenation\n"
   ]
  },
  {
   "cell_type": "code",
   "execution_count": null,
   "id": "fd38cc4b",
   "metadata": {},
   "outputs": [],
   "source": []
  },
  {
   "cell_type": "code",
   "execution_count": 5,
   "id": "035752ad-cb5a-4c1e-a209-68bb2295deb5",
   "metadata": {},
   "outputs": [
    {
     "data": {
      "text/plain": [
       "'hellodenis'"
      ]
     },
     "execution_count": 5,
     "metadata": {},
     "output_type": "execute_result"
    }
   ],
   "source": [
    "a+b\n"
   ]
  },
  {
   "cell_type": "code",
   "execution_count": 6,
   "id": "f5278cca-28d7-4d68-a941-b4fa03ad50ff",
   "metadata": {},
   "outputs": [
    {
     "name": "stdout",
     "output_type": "stream",
     "text": [
      "hello denis\n"
     ]
    }
   ],
   "source": [
    "print(a,b)\n"
   ]
  },
  {
   "cell_type": "markdown",
   "id": "d186f28b-ad28-4082-b33d-5df68cc5d04e",
   "metadata": {
    "jp-MarkdownHeadingCollapsed": true
   },
   "source": [
    "## String methods\n"
   ]
  },
  {
   "cell_type": "code",
   "execution_count": 7,
   "id": "f29b8454-93b9-44fa-85ed-28b7113485cd",
   "metadata": {},
   "outputs": [
    {
     "data": {
      "text/plain": [
       "'hello'"
      ]
     },
     "execution_count": 7,
     "metadata": {},
     "output_type": "execute_result"
    }
   ],
   "source": [
    "a.lower()"
   ]
  },
  {
   "cell_type": "code",
   "execution_count": 9,
   "id": "33f4126d-22bd-455e-ba3c-acdcdd98bc66",
   "metadata": {},
   "outputs": [
    {
     "data": {
      "text/plain": [
       "'hello'"
      ]
     },
     "execution_count": 9,
     "metadata": {},
     "output_type": "execute_result"
    }
   ],
   "source": [
    "a.lower()"
   ]
  },
  {
   "cell_type": "code",
   "execution_count": 10,
   "id": "6f60dbe8-d635-4812-8ac5-0d69933d27d5",
   "metadata": {},
   "outputs": [
    {
     "data": {
      "text/plain": [
       "'Hello'"
      ]
     },
     "execution_count": 10,
     "metadata": {},
     "output_type": "execute_result"
    }
   ],
   "source": [
    "a.title()"
   ]
  },
  {
   "cell_type": "code",
   "execution_count": 11,
   "id": "dc0603db-309d-4f59-be1f-d4786350fba3",
   "metadata": {},
   "outputs": [
    {
     "data": {
      "text/plain": [
       "'HELLO'"
      ]
     },
     "execution_count": 11,
     "metadata": {},
     "output_type": "execute_result"
    }
   ],
   "source": [
    "a.upper()"
   ]
  },
  {
   "cell_type": "code",
   "execution_count": 12,
   "id": "971ddf06-1162-4065-bfc0-cec3f35b569c",
   "metadata": {},
   "outputs": [
    {
     "name": "stdout",
     "output_type": "stream",
     "text": [
      "hELLo\n"
     ]
    }
   ],
   "source": [
    "print(a)"
   ]
  },
  {
   "cell_type": "markdown",
   "id": "31d2b9e3-ac57-43e8-8123-2c4ba7df5896",
   "metadata": {},
   "source": [
    "### String Indexing\n"
   ]
  },
  {
   "cell_type": "code",
   "execution_count": 17,
   "id": "30428901-c13f-4e71-986a-757c3459d5a0",
   "metadata": {},
   "outputs": [
    {
     "data": {
      "text/plain": [
       "4"
      ]
     },
     "execution_count": 17,
     "metadata": {},
     "output_type": "execute_result"
    }
   ],
   "source": [
    " a.index(\"o\")"
   ]
  },
  {
   "cell_type": "code",
   "execution_count": 18,
   "id": "e91834ab-e78a-48b8-8763-0d5de9804cf3",
   "metadata": {},
   "outputs": [
    {
     "data": {
      "text/plain": [
       "10"
      ]
     },
     "execution_count": 18,
     "metadata": {},
     "output_type": "execute_result"
    }
   ],
   "source": [
    "a=\"Hello! My name is Denis Raj Timilsena\"\n",
    "a.index(\"name\")\n"
   ]
  },
  {
   "cell_type": "code",
   "execution_count": 19,
   "id": "30d35ab2-1174-466d-805c-35065b31e511",
   "metadata": {},
   "outputs": [
    {
     "name": "stdout",
     "output_type": "stream",
     "text": [
      "n\n"
     ]
    }
   ],
   "source": [
    "print(a[10])"
   ]
  },
  {
   "cell_type": "markdown",
   "id": "af289104-38bf-40d5-bd1d-1e3a751e513c",
   "metadata": {
    "jp-MarkdownHeadingCollapsed": true
   },
   "source": [
    "## String Formatting\n"
   ]
  },
  {
   "cell_type": "code",
   "execution_count": 22,
   "id": "309231b2-ed2f-486a-a8d3-e5c404a0065b",
   "metadata": {},
   "outputs": [
    {
     "name": "stdout",
     "output_type": "stream",
     "text": [
      "ld!\n"
     ]
    }
   ],
   "source": [
    "b = \"  Hello, World!  \"\n",
    "print(b[-5:-2])\n",
    "\n"
   ]
  },
  {
   "cell_type": "code",
   "execution_count": 24,
   "id": "9594bc69-b3ae-4c5d-b84c-4a4e83d04289",
   "metadata": {},
   "outputs": [
    {
     "name": "stdout",
     "output_type": "stream",
     "text": [
      "Hello, World!\n"
     ]
    }
   ],
   "source": [
    "print(b.strip())"
   ]
  },
  {
   "cell_type": "code",
   "execution_count": 25,
   "id": "9a1ac92f-7364-48ce-9009-9046872083dd",
   "metadata": {},
   "outputs": [
    {
     "name": "stdout",
     "output_type": "stream",
     "text": [
      "My name is John, I am 36\n"
     ]
    }
   ],
   "source": [
    "age = 36\n",
    "txt = f\"My name is John, I am {age}\"\n",
    "print(txt)\n"
   ]
  },
  {
   "cell_type": "code",
   "execution_count": 26,
   "id": "8d15aa62-320b-4afd-9bfe-94019899ada6",
   "metadata": {},
   "outputs": [],
   "source": [
    "txt=f\"My name is Denish Raj Timilsena, and I am {age} years old\""
   ]
  },
  {
   "cell_type": "code",
   "execution_count": 27,
   "id": "eb816dce-e472-444c-b5ab-cef452031f63",
   "metadata": {},
   "outputs": [
    {
     "name": "stdout",
     "output_type": "stream",
     "text": [
      "My name is Denish Raj Timilsena, and I am 36 years old\n"
     ]
    }
   ],
   "source": [
    "print(txt)"
   ]
  },
  {
   "cell_type": "code",
   "execution_count": 28,
   "id": "5689a80b-dc7b-48ba-8937-105f293f1656",
   "metadata": {},
   "outputs": [],
   "source": [
    "txt = \"We are the so-called \\\"Vikings\\\" from the north.\""
   ]
  },
  {
   "cell_type": "code",
   "execution_count": 29,
   "id": "4aca2204-ecb1-4650-957d-158892b997d3",
   "metadata": {},
   "outputs": [
    {
     "name": "stdout",
     "output_type": "stream",
     "text": [
      "We are the so-called \"Vikings\" from the north.\n"
     ]
    }
   ],
   "source": [
    "print(txt)"
   ]
  },
  {
   "cell_type": "code",
   "execution_count": 34,
   "id": "2bc6eeca-e3c4-41a8-aa34-37471a359649",
   "metadata": {},
   "outputs": [],
   "source": [
    "txt = \"We are the so-called \\'Vikings\\' from the north.\""
   ]
  },
  {
   "cell_type": "code",
   "execution_count": 32,
   "id": "5e263da6-a111-4ad4-a8c9-34a620f42b2f",
   "metadata": {},
   "outputs": [
    {
     "name": "stdout",
     "output_type": "stream",
     "text": [
      "We are the so-called 'Vikings' from the north.\n"
     ]
    }
   ],
   "source": [
    "print(txt)"
   ]
  },
  {
   "cell_type": "code",
   "execution_count": 35,
   "id": "6da23e1a-b5f2-4d22-a3d8-601be1137dca",
   "metadata": {},
   "outputs": [],
   "source": [
    "txt = \"We are the so-called \\r Vikings from the north.\""
   ]
  },
  {
   "cell_type": "code",
   "execution_count": 36,
   "id": "5aef309f-7ecb-4fe5-975f-52708efdfd34",
   "metadata": {},
   "outputs": [
    {
     "name": "stdout",
     "output_type": "stream",
     "text": [
      " Vikings from the north.\n"
     ]
    }
   ],
   "source": [
    "print(txt)"
   ]
  },
  {
   "cell_type": "markdown",
   "id": "587e996b-155f-495e-a74f-e809fd894ccf",
   "metadata": {},
   "source": [
    "### String Slicing\n",
    "\n",
    "#### syntax : string[strat:stop:step]\n"
   ]
  },
  {
   "cell_type": "code",
   "execution_count": 38,
   "id": "e6a6927d-08d8-42b1-8c3a-ea5b49b1b939",
   "metadata": {},
   "outputs": [
    {
     "name": "stdout",
     "output_type": "stream",
     "text": [
      "orl\n"
     ]
    }
   ],
   "source": [
    "b = \"Hello, World!\"\n",
    "print(b[-5:-2])\n",
    "\n"
   ]
  },
  {
   "cell_type": "code",
   "execution_count": 39,
   "id": "bc6d6b2b-e222-4c38-8e3c-0a6909d85542",
   "metadata": {},
   "outputs": [
    {
     "data": {
      "text/plain": [
       "'l,'"
      ]
     },
     "execution_count": 39,
     "metadata": {},
     "output_type": "execute_result"
    }
   ],
   "source": [
    "b[3:6:2]"
   ]
  },
  {
   "cell_type": "markdown",
   "id": "c416019c-e43f-42c7-9013-226b9393ada5",
   "metadata": {},
   "source": [
    "# LISTS\n"
   ]
  },
  {
   "cell_type": "code",
   "execution_count": 2,
   "id": "baf093db-4080-407e-8f50-77461b1e1c5a",
   "metadata": {},
   "outputs": [
    {
     "name": "stdout",
     "output_type": "stream",
     "text": [
      "['Dneis', 'timilsena', 'raj']\n"
     ]
    }
   ],
   "source": [
    "list=[\"Dneis\", \"timilsena\", \"raj\"]\n",
    "print(list)"
   ]
  },
  {
   "cell_type": "code",
   "execution_count": 1,
   "id": "5eddd71a-ffda-4816-8c18-f45212801b30",
   "metadata": {},
   "outputs": [
    {
     "name": "stdout",
     "output_type": "stream",
     "text": [
      "['apple', 'banana', 'cherry']\n"
     ]
    }
   ],
   "source": [
    "thislist = [\"apple\", \"banana\", \"cherry\"]\n",
    "print(thislist)"
   ]
  },
  {
   "cell_type": "code",
   "execution_count": 3,
   "id": "6cb86f68-8897-48be-a204-33ea1dc9b7e5",
   "metadata": {},
   "outputs": [
    {
     "data": {
      "text/plain": [
       "'Dneis'"
      ]
     },
     "execution_count": 3,
     "metadata": {},
     "output_type": "execute_result"
    }
   ],
   "source": [
    "list[0]"
   ]
  },
  {
   "cell_type": "markdown",
   "id": "5016debb-3f6b-4a88-9bac-c73bf01690f5",
   "metadata": {},
   "source": [
    "Operator Example Same As Try it\n",
    "= x = 5 x = 5\n",
    "+= x += 3 x = x + 3\n",
    "-= x -= 3 x = x - 3\n",
    "_= x _= 3 x = x \\* 3\n",
    "/= x /= 3 x = x / 3\n",
    "%= x %= 3 x = x % 3\n",
    "//= x //= 3 x = x // 3\n",
    "**= x **= 3 x = x \\*\\* 3\n",
    "&= x &= 3 x = x & 3\n",
    "|= x |= 3 x = x | 3\n",
    "^= x ^= 3 x = x ^ 3\n",
    "\n",
    "> > = x >>= 3 x = x >> 3\n",
    "> > <<= x <<= 3 x = x << 3\n",
    "> > := print(x := 3) x = 3\n",
    "> > print(x)\n"
   ]
  },
  {
   "cell_type": "code",
   "execution_count": 5,
   "id": "1095b5ee-c625-41ce-ba44-37747ed5b657",
   "metadata": {},
   "outputs": [],
   "source": [
    "list1 = [\"abc\", 34, True, 40, \"male\"]\n",
    "#List can be any mixture of datatypes "
   ]
  },
  {
   "cell_type": "code",
   "execution_count": 6,
   "id": "58f3e7f7-3b92-43ef-83fe-4a694c8362aa",
   "metadata": {},
   "outputs": [
    {
     "name": "stdout",
     "output_type": "stream",
     "text": [
      "<class 'list'>\n"
     ]
    }
   ],
   "source": [
    "print(type(list1))"
   ]
  },
  {
   "cell_type": "markdown",
   "id": "7fc24cef-e8b2-4226-99d0-90991cc85d37",
   "metadata": {},
   "source": [
    "### List constructor\n"
   ]
  },
  {
   "cell_type": "code",
   "execution_count": 8,
   "id": "accddd04-3756-44af-b30b-c2551c9e3694",
   "metadata": {},
   "outputs": [
    {
     "name": "stdout",
     "output_type": "stream",
     "text": [
      "['apple', 'banana', 'cherry']\n"
     ]
    }
   ],
   "source": [
    "del list  # because the above declaration of list is overwrite thus the list is not callable \n",
    "\n",
    "thislist = list((\"apple\", \"banana\", \"cherry\")) # note the double round-brackets\n",
    "print(thislist)"
   ]
  },
  {
   "cell_type": "markdown",
   "id": "62651a1f-2f5a-4787-86cf-2ab94088cc74",
   "metadata": {
    "jp-MarkdownHeadingCollapsed": true
   },
   "source": [
    "## Python Collections (Arrays)\n",
    "\n",
    "There are four collection data types in the Python programming language:\n",
    "\n",
    "List is a collection which is ordered and changeable. Allows duplicate members.\n",
    "Tuple is a collection which is ordered and unchangeable. Allows duplicate members.\n",
    "Set is a collection which is unordered, unchangeable\\*, and unindexed. No duplicate members.\n",
    "Dictionary is a collection which is ordered\\*\\* and changeable. No duplicate members.\n"
   ]
  },
  {
   "cell_type": "markdown",
   "id": "eb3fa8d1-3467-4eb5-9e5f-9915af2e3399",
   "metadata": {
    "jp-MarkdownHeadingCollapsed": true
   },
   "source": [
    "## Accessing list items\n"
   ]
  },
  {
   "cell_type": "code",
   "execution_count": 9,
   "id": "8d9784bc-fe92-489a-8d35-3768bdf182d3",
   "metadata": {},
   "outputs": [
    {
     "name": "stdout",
     "output_type": "stream",
     "text": [
      "banana\n"
     ]
    }
   ],
   "source": [
    "denis=[\"apple\", \"banana\", \"cherry\"]\n",
    "print(denis[1])\n"
   ]
  },
  {
   "cell_type": "code",
   "execution_count": 11,
   "id": "8069edfc-7dee-40bc-b194-afc381bc96f1",
   "metadata": {},
   "outputs": [
    {
     "name": "stdout",
     "output_type": "stream",
     "text": [
      "banana\n"
     ]
    }
   ],
   "source": [
    "# Negative Indexing \n",
    "\n",
    "thislist = [\"apple\", \"banana\", \"cherry\"]\n",
    "print(thislist[-2])"
   ]
  },
  {
   "cell_type": "code",
   "execution_count": 12,
   "id": "7cd92d72-8c52-41ec-ae68-a6a8023e8ce3",
   "metadata": {},
   "outputs": [
    {
     "name": "stdout",
     "output_type": "stream",
     "text": [
      "['cherry', 'orange', 'kiwi']\n"
     ]
    }
   ],
   "source": [
    "thislist = [\"apple\", \"banana\", \"cherry\", \"orange\", \"kiwi\", \"melon\", \"mango\"]\n",
    "print(thislist[2:5])"
   ]
  },
  {
   "cell_type": "code",
   "execution_count": 13,
   "id": "dc22762c-1993-4d80-b202-e0e754049bf4",
   "metadata": {},
   "outputs": [],
   "source": [
    "### This is same as slicing in string "
   ]
  },
  {
   "cell_type": "code",
   "execution_count": 14,
   "id": "9fb4789a-e2a7-41ce-ace8-f2bd15fb4531",
   "metadata": {},
   "outputs": [
    {
     "name": "stdout",
     "output_type": "stream",
     "text": [
      "['cherry', 'orange', 'kiwi', 'melon', 'mango']\n"
     ]
    }
   ],
   "source": [
    "thislist = [\"apple\", \"banana\", \"cherry\", \"orange\", \"kiwi\", \"melon\", \"mango\"]\n",
    "print(thislist[2:])"
   ]
  },
  {
   "cell_type": "code",
   "execution_count": 15,
   "id": "ac664129-cf36-4c21-9187-5e554c366278",
   "metadata": {},
   "outputs": [
    {
     "name": "stdout",
     "output_type": "stream",
     "text": [
      "['apple', 'banana', 'cherry', 'orange', 'kiwi']\n"
     ]
    }
   ],
   "source": [
    "thislist = [\"apple\", \"banana\", \"cherry\", \"orange\", \"kiwi\", \"melon\", \"mango\"]\n",
    "print(thislist[:5])"
   ]
  },
  {
   "cell_type": "code",
   "execution_count": 16,
   "id": "8875766d-16c6-419c-9f68-2930a29c6821",
   "metadata": {},
   "outputs": [],
   "source": [
    "# Range of negative indexing "
   ]
  },
  {
   "cell_type": "code",
   "execution_count": 18,
   "id": "221e9ef6-efa0-4998-aa63-8c9b1eaf84a4",
   "metadata": {},
   "outputs": [
    {
     "name": "stdout",
     "output_type": "stream",
     "text": [
      "['cherry', 'orange', 'kiwi']\n"
     ]
    }
   ],
   "source": [
    "thislist = [\"apple\", \"banana\", \"cherry\", \"orange\", \"kiwi\", \"melon\", \"mango\"]\n",
    "print(thislist[-5:-2])"
   ]
  },
  {
   "cell_type": "code",
   "execution_count": 19,
   "id": "bba8a2b1-2d59-466d-acf7-e4eb7419c938",
   "metadata": {},
   "outputs": [
    {
     "name": "stdout",
     "output_type": "stream",
     "text": [
      "Yes, apple in this list \n"
     ]
    }
   ],
   "source": [
    "thislist = [\"apple\", \"banana\", \"cherry\", \"orange\", \"kiwi\", \"melon\", \"mango\"]\n",
    "if \"apple\" in thislist:\n",
    "    print(\"Yes, apple in this list \")\n",
    "    "
   ]
  },
  {
   "cell_type": "code",
   "execution_count": 23,
   "id": "1fd8c4f7-6f82-4a0c-816b-ca2474c1773b",
   "metadata": {},
   "outputs": [
    {
     "name": "stdout",
     "output_type": "stream",
     "text": [
      "3\n"
     ]
    }
   ],
   "source": [
    "thislist = [\"apple\", \"banana\", \"cherry\", \"orange\", \"kiwi\", \"melon\", \"mango\"]\n",
    "if \"orange\" in thislist:\n",
    "    print(thislist.index(\"orange\"))"
   ]
  },
  {
   "cell_type": "markdown",
   "id": "d720ed56-0aa0-4259-aede-1bfa82d196f2",
   "metadata": {
    "jp-MarkdownHeadingCollapsed": true
   },
   "source": [
    "## Changing the list\n"
   ]
  },
  {
   "cell_type": "code",
   "execution_count": 24,
   "id": "73e0daa7-fb75-4564-ba3f-0f127c899f94",
   "metadata": {},
   "outputs": [
    {
     "name": "stdout",
     "output_type": "stream",
     "text": [
      "['apple', 'blackcurrant', 'cherry']\n"
     ]
    }
   ],
   "source": [
    "thislist = [\"apple\", \"banana\", \"cherry\"]\n",
    "thislist[1] = \"blackcurrant\"\n",
    "print(thislist)"
   ]
  },
  {
   "cell_type": "code",
   "execution_count": 28,
   "id": "8fb902c4-c8fc-408b-a4ff-678d3925a936",
   "metadata": {},
   "outputs": [
    {
     "name": "stdout",
     "output_type": "stream",
     "text": [
      "['apple', 'd', 'e', 'n', 'i', 's', 'cherry']\n"
     ]
    }
   ],
   "source": [
    "thislist = [\"apple\", \"banana\", \"cherry\"]\n",
    "thislist[1:2] = \"denis\"\n",
    "print(thislist)"
   ]
  },
  {
   "cell_type": "code",
   "execution_count": null,
   "id": "7758fdfb-ad6f-4d0c-b819-f88858a001ee",
   "metadata": {},
   "outputs": [],
   "source": [
    "thislist = [\"apple\", \"banana\", \"cherry\"]\n",
    "thislist[1:2] = \"denis\"\n",
    "print(thislist)"
   ]
  },
  {
   "cell_type": "code",
   "execution_count": 29,
   "id": "2bdc012e-d039-4ec2-95b9-d2d5f8cbb3d6",
   "metadata": {},
   "outputs": [
    {
     "name": "stdout",
     "output_type": "stream",
     "text": [
      "['apple', 'banana', 'watermelon', 'cherry']\n"
     ]
    }
   ],
   "source": [
    "## inserting at the position\n",
    "thislist = [\"apple\", \"banana\", \"cherry\"]\n",
    "thislist.insert(2, \"watermelon\")\n",
    "print(thislist)"
   ]
  },
  {
   "cell_type": "code",
   "execution_count": 31,
   "id": "d78aa511-88ad-47f5-b0f2-290e9c21bc6b",
   "metadata": {},
   "outputs": [
    {
     "name": "stdout",
     "output_type": "stream",
     "text": [
      "['apple', 'banana', 'cherry', 'orange']\n"
     ]
    }
   ],
   "source": [
    "thislist = [\"apple\", \"banana\", \"cherry\"]\n",
    "thislist.append(\"orange\")\n",
    "print(thislist)"
   ]
  },
  {
   "cell_type": "code",
   "execution_count": 32,
   "id": "9ac7fe57-3489-4d64-a722-fec8a9359e2e",
   "metadata": {},
   "outputs": [
    {
     "name": "stdout",
     "output_type": "stream",
     "text": [
      "['apple', 'banana', 'cherry', 'mango', 'pineapple', 'papaya']\n"
     ]
    }
   ],
   "source": [
    "## Extending the list (adding another list)\n",
    "\n",
    "thislist = [\"apple\", \"banana\", \"cherry\"]\n",
    "tropical = [\"mango\", \"pineapple\", \"papaya\"]\n",
    "thislist.extend(tropical)\n",
    "print(thislist)"
   ]
  },
  {
   "cell_type": "markdown",
   "id": "1a28f234-fa3f-4f70-9258-0eeebf9e1d85",
   "metadata": {
    "jp-MarkdownHeadingCollapsed": true
   },
   "source": [
    "## Add Any Iterable\n",
    "\n",
    "The extend() method does not have to append lists, you can add any iterable object (tuples, sets, dictionaries etc.).\n"
   ]
  },
  {
   "cell_type": "code",
   "execution_count": 33,
   "id": "e5f44208-e1a6-40a8-a2d0-1aa8e31b063e",
   "metadata": {},
   "outputs": [
    {
     "name": "stdout",
     "output_type": "stream",
     "text": [
      "['apple', 'banana', 'cherry', 'kiwi', 'orange']\n"
     ]
    }
   ],
   "source": [
    "thislist = [\"apple\", \"banana\", \"cherry\"]\n",
    "thistuple = (\"kiwi\", \"orange\")\n",
    "thislist.extend(thistuple)S\n",
    "print(thislist)"
   ]
  },
  {
   "cell_type": "code",
   "execution_count": 1,
   "id": "d8a7d7bc-3571-46fd-bbcc-770b651b1faf",
   "metadata": {},
   "outputs": [
    {
     "name": "stdout",
     "output_type": "stream",
     "text": [
      "['apple', 'cherry', 'banana', 'kiwi']\n"
     ]
    }
   ],
   "source": [
    "## Remove List  this remove the first recurrance of the \"banana\"\n",
    "thislist = [\"apple\", \"banana\", \"cherry\", \"banana\", \"kiwi\"]\n",
    "thislist.remove(\"banana\")\n",
    "print(thislist)"
   ]
  },
  {
   "cell_type": "code",
   "execution_count": 2,
   "id": "fd3b65f2-ff38-4796-a3bf-2de912070fee",
   "metadata": {},
   "outputs": [
    {
     "data": {
      "text/plain": [
       "'kiwi'"
      ]
     },
     "execution_count": 2,
     "metadata": {},
     "output_type": "execute_result"
    }
   ],
   "source": [
    "## To remove specific index\n",
    "# pop() is used\n",
    "\n",
    "thislist.pop(3)"
   ]
  },
  {
   "cell_type": "code",
   "execution_count": 3,
   "id": "313b5b39-1fd0-41e1-9435-7fbcd1d0d7ca",
   "metadata": {},
   "outputs": [
    {
     "name": "stdout",
     "output_type": "stream",
     "text": [
      "['apple', 'cherry', 'banana']\n"
     ]
    }
   ],
   "source": [
    "print(thislist)"
   ]
  },
  {
   "cell_type": "code",
   "execution_count": 4,
   "id": "7c6685ce-83b2-48eb-adb7-1e014be2389b",
   "metadata": {},
   "outputs": [
    {
     "data": {
      "text/plain": [
       "'banana'"
      ]
     },
     "execution_count": 4,
     "metadata": {},
     "output_type": "execute_result"
    }
   ],
   "source": [
    "## To remove last item just pop()\n",
    "thislist.pop()"
   ]
  },
  {
   "cell_type": "code",
   "execution_count": 5,
   "id": "ed1c1c7e-5571-460d-9a72-2cf2ee1de576",
   "metadata": {},
   "outputs": [
    {
     "name": "stdout",
     "output_type": "stream",
     "text": [
      "['apple', 'cherry']\n"
     ]
    }
   ],
   "source": [
    "print(thislist)"
   ]
  },
  {
   "cell_type": "code",
   "execution_count": 21,
   "id": "29051478-6059-4652-9a85-3818deb96131",
   "metadata": {},
   "outputs": [
    {
     "name": "stdout",
     "output_type": "stream",
     "text": [
      "['apple', 'banana', 'cherry', 'banana', 'kiwi']\n"
     ]
    },
    {
     "ename": "NameError",
     "evalue": "name 'thislis' is not defined",
     "output_type": "error",
     "traceback": [
      "\u001b[1;31m---------------------------------------------------------------------------\u001b[0m",
      "\u001b[1;31mNameError\u001b[0m                                 Traceback (most recent call last)",
      "Cell \u001b[1;32mIn[21], line 5\u001b[0m\n\u001b[0;32m      3\u001b[0m \u001b[38;5;28mprint\u001b[39m(thislis)\n\u001b[0;32m      4\u001b[0m \u001b[38;5;28;01mdel\u001b[39;00m thislis\n\u001b[1;32m----> 5\u001b[0m \u001b[38;5;28mprint\u001b[39m(\u001b[43mthislis\u001b[49m) \u001b[38;5;66;03m#the list is not there (its deleted)\u001b[39;00m\n",
      "\u001b[1;31mNameError\u001b[0m: name 'thislis' is not defined"
     ]
    }
   ],
   "source": [
    "## to delete the entire list \n",
    "thislis = [\"apple\", \"banana\", \"cherry\", \"banana\", \"kiwi\"]\n",
    "print(thislis)\n",
    "del thislis\n",
    "print(thislis) #the list is not there (its deleted)"
   ]
  },
  {
   "cell_type": "code",
   "execution_count": 17,
   "id": "cb43984d-4166-446a-9188-6c601cda9a0d",
   "metadata": {},
   "outputs": [],
   "source": [
    "##clear(method)\n",
    "thislist=[\"apple\", \"banana\", \"cherry\"]\n",
    "thislist.clear()\n"
   ]
  },
  {
   "cell_type": "code",
   "execution_count": 18,
   "id": "9c2cd3ae-99ab-4a13-b399-fcbd003d94a0",
   "metadata": {},
   "outputs": [
    {
     "data": {
      "text/plain": [
       "[]"
      ]
     },
     "execution_count": 18,
     "metadata": {},
     "output_type": "execute_result"
    }
   ],
   "source": [
    "thislist"
   ]
  },
  {
   "cell_type": "markdown",
   "id": "51455087-7050-4d25-b173-9145e336aa45",
   "metadata": {},
   "source": [
    "## Loop in list( for..in, for .. in range, while)\n"
   ]
  },
  {
   "cell_type": "code",
   "execution_count": 25,
   "id": "c1102c75-f81e-411a-90ca-51cbeb47d646",
   "metadata": {},
   "outputs": [
    {
     "name": "stdout",
     "output_type": "stream",
     "text": [
      "apple\n",
      "banana\n",
      "d\n",
      "cherry\n"
     ]
    }
   ],
   "source": [
    "thislist = [\"apple\", \"banana\", \"d\" ,\"cherry\"]\n",
    "for x in thislist:\n",
    "  print(x)\n"
   ]
  },
  {
   "cell_type": "code",
   "execution_count": 26,
   "id": "8c17178c-3df2-41e5-9ea3-953913b052a1",
   "metadata": {},
   "outputs": [
    {
     "name": "stdout",
     "output_type": "stream",
     "text": [
      "apple\n",
      "banana\n",
      "cherry\n"
     ]
    }
   ],
   "source": [
    "thislist = [\"apple\", \"banana\", \"cherry\"]\n",
    "for i in range(len(thislist)):\n",
    "  print(thislist[i])"
   ]
  },
  {
   "cell_type": "code",
   "execution_count": 29,
   "id": "b9229dfc-2972-4769-97bc-aa798c63d9b7",
   "metadata": {},
   "outputs": [
    {
     "name": "stdout",
     "output_type": "stream",
     "text": [
      "denis\n",
      "sagar\n",
      "sailesh\n",
      "lokesh\n"
     ]
    }
   ],
   "source": [
    "denis=[\"denis\",\"sagar\",\"sailesh\",\"lokesh\"]\n",
    "for i in range(len(denis)):\n",
    "    print(denis[i])\n",
    "    \n"
   ]
  },
  {
   "cell_type": "code",
   "execution_count": 30,
   "id": "f65de2dd-5550-4e66-ad9c-13612815e50e",
   "metadata": {},
   "outputs": [
    {
     "name": "stdout",
     "output_type": "stream",
     "text": [
      "denis\n",
      "sagar\n",
      "sailesh\n",
      "lokesh\n"
     ]
    }
   ],
   "source": [
    "for x in denis:\n",
    "    print(x)"
   ]
  },
  {
   "cell_type": "code",
   "execution_count": 31,
   "id": "f79cffb0-2202-47e7-9398-81ae59cfcb8b",
   "metadata": {},
   "outputs": [],
   "source": [
    "# Using while loop"
   ]
  },
  {
   "cell_type": "code",
   "execution_count": null,
   "id": "ff340274-f50e-4789-b027-8abcc848889c",
   "metadata": {},
   "outputs": [],
   "source": [
    "i=0\n",
    "while i<len(denis):\n",
    "    print(denis[i])\n",
    "    i=i+1"
   ]
  },
  {
   "cell_type": "code",
   "execution_count": 1,
   "id": "67331d0f-e698-4a6e-a241-82857c522ab8",
   "metadata": {},
   "outputs": [
    {
     "name": "stdout",
     "output_type": "stream",
     "text": [
      "denis\n",
      "tilak\n",
      "sagar\n",
      "sailesh\n"
     ]
    }
   ],
   "source": [
    "denis=[\"denis\", \"tilak\", \"sagar\", \"sailesh\"]\n",
    "i=0\n",
    "while i<len(denis):\n",
    "    print(denis[i])\n",
    "    i=i+1"
   ]
  },
  {
   "cell_type": "code",
   "execution_count": 1,
   "id": "ced79c9a-204a-44bb-802c-9f3e799ca61c",
   "metadata": {},
   "outputs": [
    {
     "ename": "SyntaxError",
     "evalue": "cannot assign to literal (3491067359.py, line 4)",
     "output_type": "error",
     "traceback": [
      "\u001b[1;36m  Cell \u001b[1;32mIn[1], line 4\u001b[1;36m\u001b[0m\n\u001b[1;33m    for \"a\" in x:\u001b[0m\n\u001b[1;37m        ^\u001b[0m\n\u001b[1;31mSyntaxError\u001b[0m\u001b[1;31m:\u001b[0m cannot assign to literal\n"
     ]
    }
   ],
   "source": [
    "fruits = [\"apple\", \"banana\", \"cherry\", \"kiwi\", \"mango\"]\n",
    "newlist=[]\n",
    "for x in fruits:\n",
    "    for \"a\" in x:\n",
    "        newlist.append(x)\n",
    "\n",
    "print(newlist)"
   ]
  },
  {
   "cell_type": "code",
   "execution_count": 2,
   "id": "b703cc42-d6bb-404d-82a4-8dd38096ad84",
   "metadata": {},
   "outputs": [
    {
     "name": "stdout",
     "output_type": "stream",
     "text": [
      "['apple', 'banana', 'mango']\n"
     ]
    }
   ],
   "source": [
    "fruits = [\"apple\", \"banana\", \"cherry\", \"kiwi\", \"mango\"]\n",
    "newlist = []\n",
    "\n",
    "for x in fruits:\n",
    "  if \"a\" in x:\n",
    "    newlist.append(x)\n",
    "\n",
    "print(newlist)\n"
   ]
  },
  {
   "cell_type": "code",
   "execution_count": 3,
   "id": "a207e6f3-438c-4f12-95ed-015634906783",
   "metadata": {},
   "outputs": [],
   "source": [
    "newlist = [x for x in fruits if \"a\" in x]"
   ]
  },
  {
   "cell_type": "code",
   "execution_count": 4,
   "id": "4d240d1a-c439-4d97-a256-5d1cc67440b3",
   "metadata": {},
   "outputs": [
    {
     "name": "stdout",
     "output_type": "stream",
     "text": [
      "['apple', 'banana', 'mango']\n"
     ]
    }
   ],
   "source": [
    "print(newlist)"
   ]
  },
  {
   "cell_type": "code",
   "execution_count": 5,
   "id": "b727359f-b098-4848-a551-85106cb136b5",
   "metadata": {},
   "outputs": [
    {
     "name": "stdout",
     "output_type": "stream",
     "text": [
      "['banana', 'kiwi', 'mango', 'orange', 'pineapple']\n"
     ]
    }
   ],
   "source": [
    "## sorting the list \n",
    "thislist = [\"orange\", \"mango\", \"kiwi\", \"pineapple\", \"banana\"]\n",
    "thislist.sort()\n",
    "print(thislist)"
   ]
  },
  {
   "cell_type": "code",
   "execution_count": 6,
   "id": "39960161-844d-4ebd-8cee-31aadcaa0be2",
   "metadata": {},
   "outputs": [
    {
     "name": "stdout",
     "output_type": "stream",
     "text": [
      "['pineapple', 'orange', 'mango', 'kiwi', 'banana']\n"
     ]
    }
   ],
   "source": [
    "thislist = [\"orange\", \"mango\", \"kiwi\", \"pineapple\", \"banana\"]\n",
    "thislist.sort(reverse = True)\n",
    "print(thislist)"
   ]
  },
  {
   "cell_type": "code",
   "execution_count": 7,
   "id": "ffa96a75-a450-4a37-b7ed-dbd2d4246f45",
   "metadata": {},
   "outputs": [
    {
     "name": "stdout",
     "output_type": "stream",
     "text": [
      "[100, 82, 65, 50, 23]\n"
     ]
    }
   ],
   "source": [
    "thislist = [100, 50, 65, 82, 23]\n",
    "thislist.sort(reverse = True)\n",
    "print(thislist)"
   ]
  },
  {
   "cell_type": "code",
   "execution_count": 8,
   "id": "eaff04df-a93e-4879-8709-54e48e4c97d4",
   "metadata": {},
   "outputs": [],
   "source": [
    "# sort the list how close the number is to 50"
   ]
  },
  {
   "cell_type": "code",
   "execution_count": 14,
   "id": "2188aa4f-4323-4c97-8fa9-e904de66acd4",
   "metadata": {},
   "outputs": [
    {
     "name": "stdout",
     "output_type": "stream",
     "text": [
      "[51, 49, 34, 23, 12, 12, 100, 3122]\n"
     ]
    }
   ],
   "source": [
    "def myfunc(n):\n",
    "    return abs(50-n)\n",
    "thislist=[100,23,3122,12,12,51,34,49]\n",
    "thislist.sort(key=myfunc)\n",
    "print(thislist)"
   ]
  },
  {
   "cell_type": "code",
   "execution_count": 13,
   "id": "81e273c0-3daf-4cff-8fa0-d8508ef3955e",
   "metadata": {},
   "outputs": [
    {
     "name": "stdout",
     "output_type": "stream",
     "text": [
      "['banana', 'cherry', 'Kiwi', 'Orange']\n"
     ]
    }
   ],
   "source": [
    "thislist = [\"banana\", \"Orange\", \"Kiwi\", \"cherry\"]\n",
    "thislist.sort(key = str.lower)\n",
    "print(thislist)"
   ]
  },
  {
   "cell_type": "code",
   "execution_count": 1,
   "id": "0ed6f6bb-5e64-47d4-a3e5-3ad9dfc1348f",
   "metadata": {},
   "outputs": [
    {
     "ename": "NameError",
     "evalue": "name 'thislist' is not defined",
     "output_type": "error",
     "traceback": [
      "\u001b[1;31m---------------------------------------------------------------------------\u001b[0m",
      "\u001b[1;31mNameError\u001b[0m                                 Traceback (most recent call last)",
      "Cell \u001b[1;32mIn[1], line 1\u001b[0m\n\u001b[1;32m----> 1\u001b[0m mylist\u001b[38;5;241m=\u001b[39m\u001b[43mthislist\u001b[49m\u001b[38;5;241m.\u001b[39mcopy()\n\u001b[0;32m      2\u001b[0m \u001b[38;5;28mprint\u001b[39m(mylist)\n",
      "\u001b[1;31mNameError\u001b[0m: name 'thislist' is not defined"
     ]
    }
   ],
   "source": [
    "mylist=thislist.copy()\n",
    "print(mylist)"
   ]
  },
  {
   "cell_type": "code",
   "execution_count": 2,
   "id": "c78143c6-a914-4530-8b89-7d768672fb66",
   "metadata": {},
   "outputs": [
    {
     "name": "stdout",
     "output_type": "stream",
     "text": [
      "['apple', 'banana', 'cherry']\n"
     ]
    }
   ],
   "source": [
    "thislist = [\"apple\", \"banana\", \"cherry\"]\n",
    "mylist = thislist.copy()\n",
    "print(mylist)\n"
   ]
  },
  {
   "cell_type": "code",
   "execution_count": 4,
   "id": "c7e37649-7f38-45ef-912c-2da486aa6b1e",
   "metadata": {},
   "outputs": [],
   "source": [
    "slist=list(mylist)"
   ]
  },
  {
   "cell_type": "code",
   "execution_count": 5,
   "id": "6514b323-6dbf-41e5-b418-6f7c5239ef0a",
   "metadata": {},
   "outputs": [
    {
     "name": "stdout",
     "output_type": "stream",
     "text": [
      "['apple', 'banana', 'cherry']\n"
     ]
    }
   ],
   "source": [
    "print(slist)"
   ]
  },
  {
   "cell_type": "code",
   "execution_count": 6,
   "id": "62d7b19b-361a-4621-9541-96306483c915",
   "metadata": {},
   "outputs": [
    {
     "name": "stdout",
     "output_type": "stream",
     "text": [
      "['apple', 'banana', 'cherry']\n"
     ]
    }
   ],
   "source": [
    "## using slice operator\n",
    "ylist=slist[:]\n",
    "print(ylist)"
   ]
  },
  {
   "cell_type": "code",
   "execution_count": 7,
   "id": "5683d454-d195-46d8-b77d-b5059a88a4fa",
   "metadata": {},
   "outputs": [
    {
     "name": "stdout",
     "output_type": "stream",
     "text": [
      "['a', 'b', 'c', 1, 2, 3]\n"
     ]
    }
   ],
   "source": [
    "list1=[\"a\", \"b\",\"c\"]\n",
    "list2=[1,2,3]\n",
    "for x in list2:\n",
    "    list1.append(x)\n",
    "print(list1)"
   ]
  },
  {
   "cell_type": "code",
   "execution_count": 8,
   "id": "ad9c136a-4e62-411f-9199-e6ac8a14f039",
   "metadata": {},
   "outputs": [
    {
     "name": "stdout",
     "output_type": "stream",
     "text": [
      "['a', 'b', 'c', 1, 2, 3]\n"
     ]
    }
   ],
   "source": [
    "list1 = [\"a\", \"b\" , \"c\"]\n",
    "list2 = [1, 2, 3]\n",
    "\n",
    "list1.extend(list2)\n",
    "print(list1)\n"
   ]
  },
  {
   "cell_type": "code",
   "execution_count": null,
   "id": "faa292bc-5c65-4e9e-9609-238326c553d3",
   "metadata": {},
   "outputs": [],
   "source": [
    "##List Method\tDescription\n",
    "append()\tAdds an element at the end of the list\n",
    "clear()\tRemoves all the elements from the list\n",
    "copy()\tReturns a copy of the list\n",
    "count()\tReturns the number of elements with the specified value\n",
    "extend()\tAdd the elements of a list (or any iterable), to the end of the current list\n",
    "index()\tReturns the index of the first element with the specified value\n",
    "insert()\tAdds an element at the specified position\n",
    "pop()\tRemoves the element at the specified position\n",
    "remove()\tRemoves the item with the specified value\n",
    "reverse()\tReverses the order of the list\n",
    "sort()"
   ]
  },
  {
   "cell_type": "markdown",
   "id": "c93afa7f-69b6-4d89-a5bd-30ee7cda279f",
   "metadata": {},
   "source": [
    "# Tuple"
   ]
  },
  {
   "cell_type": "code",
   "execution_count": 9,
   "id": "8e302199-1c8a-4891-b204-19492bc2a3c4",
   "metadata": {},
   "outputs": [],
   "source": [
    "mytuple = (\"apple\", \"banana\", \"cherry\")"
   ]
  },
  {
   "cell_type": "code",
   "execution_count": 10,
   "id": "40e891d3-fb55-484a-a1cd-11db982cb5ba",
   "metadata": {},
   "outputs": [
    {
     "ename": "NameError",
     "evalue": "name 'thistuple' is not defined",
     "output_type": "error",
     "traceback": [
      "\u001b[1;31m---------------------------------------------------------------------------\u001b[0m",
      "\u001b[1;31mNameError\u001b[0m                                 Traceback (most recent call last)",
      "Cell \u001b[1;32mIn[10], line 1\u001b[0m\n\u001b[1;32m----> 1\u001b[0m \u001b[38;5;28mprint\u001b[39m(\u001b[43mthistuple\u001b[49m)\n",
      "\u001b[1;31mNameError\u001b[0m: name 'thistuple' is not defined"
     ]
    }
   ],
   "source": [
    "print(thistuple)"
   ]
  },
  {
   "cell_type": "code",
   "execution_count": 11,
   "id": "a439a713-a347-4514-99f8-8b492217e1ab",
   "metadata": {},
   "outputs": [
    {
     "name": "stdout",
     "output_type": "stream",
     "text": [
      "('apple', 'banana', 'cherry')\n"
     ]
    }
   ],
   "source": [
    "print(mytuple)"
   ]
  },
  {
   "cell_type": "code",
   "execution_count": 12,
   "id": "27fbdb56-7964-41cd-8f5f-20f7f227cec8",
   "metadata": {},
   "outputs": [
    {
     "name": "stdout",
     "output_type": "stream",
     "text": [
      "('apple', 3, 'denish')\n"
     ]
    }
   ],
   "source": [
    "thistuple=(\"apple\",3,\"denish\")\n",
    "print(thistuple)"
   ]
  },
  {
   "cell_type": "code",
   "execution_count": 14,
   "id": "2ba834bf-8592-4f46-82aa-cd97fd568d51",
   "metadata": {},
   "outputs": [],
   "source": [
    "thistuple=(\"apple\", 7, True)"
   ]
  },
  {
   "cell_type": "code",
   "execution_count": 15,
   "id": "95e9458b-bbdd-4e2a-9176-27e5680f1a52",
   "metadata": {},
   "outputs": [
    {
     "name": "stdout",
     "output_type": "stream",
     "text": [
      "('apple', 7, True)\n"
     ]
    }
   ],
   "source": [
    "print(thistuple)"
   ]
  },
  {
   "cell_type": "code",
   "execution_count": 16,
   "id": "4218545a-63e5-4f4e-9842-278d6452e2cf",
   "metadata": {},
   "outputs": [
    {
     "name": "stdout",
     "output_type": "stream",
     "text": [
      "<class 'tuple'>\n"
     ]
    }
   ],
   "source": [
    "print(type(thistuple))"
   ]
  },
  {
   "cell_type": "code",
   "execution_count": 17,
   "id": "a35dc743-52f9-4090-8d9f-34f4c8eb4102",
   "metadata": {},
   "outputs": [],
   "source": [
    "#Using tuple() constructor"
   ]
  },
  {
   "cell_type": "markdown",
   "id": "0e0d2760-e9e5-40b4-b108-5ae7d5643f6d",
   "metadata": {},
   "source": [
    "## Accessing tuple"
   ]
  },
  {
   "cell_type": "code",
   "execution_count": 39,
   "id": "06f28296-48b6-46e1-957a-718132dce72e",
   "metadata": {},
   "outputs": [
    {
     "name": "stdout",
     "output_type": "stream",
     "text": [
      "dol\n"
     ]
    }
   ],
   "source": [
    "thituple = (\"apple\", \"dol\", True, 2.323)\n",
    "print(thituple[1])"
   ]
  },
  {
   "cell_type": "code",
   "execution_count": 40,
   "id": "f9cdcccb-d4fb-4a1f-b684-c41334c781dc",
   "metadata": {},
   "outputs": [
    {
     "name": "stdout",
     "output_type": "stream",
     "text": [
      "cherry\n"
     ]
    }
   ],
   "source": [
    "#Negative Indexing \n",
    "thistuple = (\"apple\", \"banana\", \"cherry\")\n",
    "print(thistuple[-1])"
   ]
  },
  {
   "cell_type": "code",
   "execution_count": 41,
   "id": "6f3457d3-7b60-4aee-8827-ca345718b727",
   "metadata": {},
   "outputs": [],
   "source": [
    "#We can add range of the indexs\n",
    "thistuple=(23,32,4,53,54)"
   ]
  },
  {
   "cell_type": "code",
   "execution_count": 42,
   "id": "53b5efee-8ad7-44c7-81b1-c1a73bd075a9",
   "metadata": {},
   "outputs": [
    {
     "name": "stdout",
     "output_type": "stream",
     "text": [
      "(4, 53, 54)\n"
     ]
    }
   ],
   "source": [
    "print(thistuple[2:5])"
   ]
  },
  {
   "cell_type": "code",
   "execution_count": 43,
   "id": "7a9d3de6-d36b-4ce2-88b9-658f84bd8b47",
   "metadata": {},
   "outputs": [
    {
     "name": "stdout",
     "output_type": "stream",
     "text": [
      "(23, 32, 4, 53)\n"
     ]
    }
   ],
   "source": [
    "print(thistuple[:4])"
   ]
  },
  {
   "cell_type": "code",
   "execution_count": null,
   "id": "9b3a1cd4-0da5-4cbd-bb35-91382622afda",
   "metadata": {},
   "outputs": [],
   "source": []
  }
 ],
 "metadata": {
  "kernelspec": {
   "display_name": "Python 3 (ipykernel)",
   "language": "python",
   "name": "python3"
  },
  "language_info": {
   "codemirror_mode": {
    "name": "ipython",
    "version": 3
   },
   "file_extension": ".py",
   "mimetype": "text/x-python",
   "name": "python",
   "nbconvert_exporter": "python",
   "pygments_lexer": "ipython3",
   "version": "3.12.1"
  }
 },
 "nbformat": 4,
 "nbformat_minor": 5
}
