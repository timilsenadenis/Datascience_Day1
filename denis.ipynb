{
 "cells": [
  {
   "cell_type": "markdown",
   "id": "62bfded0-364c-4072-8ef7-7a3d3b3363c6",
   "metadata": {
    "jp-MarkdownHeadingCollapsed": true
   },
   "source": [
    "## DAY 3\n"
   ]
  },
  {
   "cell_type": "markdown",
   "id": "634465c5-5d77-42b1-a560-1e4a8340d084",
   "metadata": {},
   "source": [
    "### Round Method\n"
   ]
  },
  {
   "cell_type": "code",
   "execution_count": 1,
   "id": "4d956c7c-53b0-41f3-84ac-1928401e0f41",
   "metadata": {},
   "outputs": [
    {
     "data": {
      "text/plain": [
       "12"
      ]
     },
     "execution_count": 1,
     "metadata": {},
     "output_type": "execute_result"
    }
   ],
   "source": [
    "round(12.232312)"
   ]
  },
  {
   "cell_type": "markdown",
   "id": "82de1606",
   "metadata": {},
   "source": [
    "## String type\n"
   ]
  },
  {
   "cell_type": "code",
   "execution_count": 2,
   "id": "7d42511e-73ac-45eb-989b-93278641f254",
   "metadata": {},
   "outputs": [
    {
     "data": {
      "text/plain": [
       "str"
      ]
     },
     "execution_count": 2,
     "metadata": {},
     "output_type": "execute_result"
    }
   ],
   "source": [
    "a='hELLo'\n",
    "b=\"denis\"\n",
    "type(a)\n",
    "type(b)"
   ]
  },
  {
   "cell_type": "code",
   "execution_count": 3,
   "id": "c39e6854-8290-49c5-b30e-3480265f5c71",
   "metadata": {},
   "outputs": [
    {
     "name": "stdout",
     "output_type": "stream",
     "text": [
      "hELLo\n"
     ]
    }
   ],
   "source": [
    "print(a)\n"
   ]
  },
  {
   "cell_type": "code",
   "execution_count": 4,
   "id": "ba61d137-60a2-461a-838c-52bb2c831f59",
   "metadata": {},
   "outputs": [
    {
     "name": "stdout",
     "output_type": "stream",
     "text": [
      "<class 'str'>\n"
     ]
    }
   ],
   "source": [
    "print(type(a))\n",
    "\n"
   ]
  },
  {
   "cell_type": "markdown",
   "id": "4608d409-9d0d-4e1f-874e-b36872f217b9",
   "metadata": {
    "jp-MarkdownHeadingCollapsed": true
   },
   "source": [
    "## string concatenation\n"
   ]
  },
  {
   "cell_type": "code",
   "execution_count": null,
   "id": "fd38cc4b",
   "metadata": {},
   "outputs": [],
   "source": []
  },
  {
   "cell_type": "code",
   "execution_count": 5,
   "id": "035752ad-cb5a-4c1e-a209-68bb2295deb5",
   "metadata": {},
   "outputs": [
    {
     "data": {
      "text/plain": [
       "'hELLodenis'"
      ]
     },
     "execution_count": 5,
     "metadata": {},
     "output_type": "execute_result"
    }
   ],
   "source": [
    "a+b\n"
   ]
  },
  {
   "cell_type": "code",
   "execution_count": 6,
   "id": "f5278cca-28d7-4d68-a941-b4fa03ad50ff",
   "metadata": {},
   "outputs": [
    {
     "name": "stdout",
     "output_type": "stream",
     "text": [
      "hELLo denis\n"
     ]
    }
   ],
   "source": [
    "print(a,b)\n"
   ]
  },
  {
   "cell_type": "markdown",
   "id": "d186f28b-ad28-4082-b33d-5df68cc5d04e",
   "metadata": {
    "jp-MarkdownHeadingCollapsed": true
   },
   "source": [
    "## String methods\n"
   ]
  },
  {
   "cell_type": "code",
   "execution_count": 7,
   "id": "f29b8454-93b9-44fa-85ed-28b7113485cd",
   "metadata": {},
   "outputs": [
    {
     "data": {
      "text/plain": [
       "'hello'"
      ]
     },
     "execution_count": 7,
     "metadata": {},
     "output_type": "execute_result"
    }
   ],
   "source": [
    "a.lower()"
   ]
  },
  {
   "cell_type": "code",
   "execution_count": 8,
   "id": "33f4126d-22bd-455e-ba3c-acdcdd98bc66",
   "metadata": {},
   "outputs": [
    {
     "data": {
      "text/plain": [
       "'hello'"
      ]
     },
     "execution_count": 8,
     "metadata": {},
     "output_type": "execute_result"
    }
   ],
   "source": [
    "a.lower()"
   ]
  },
  {
   "cell_type": "code",
   "execution_count": 9,
   "id": "6f60dbe8-d635-4812-8ac5-0d69933d27d5",
   "metadata": {},
   "outputs": [
    {
     "data": {
      "text/plain": [
       "'Hello'"
      ]
     },
     "execution_count": 9,
     "metadata": {},
     "output_type": "execute_result"
    }
   ],
   "source": [
    "a.title()"
   ]
  },
  {
   "cell_type": "code",
   "execution_count": 10,
   "id": "dc0603db-309d-4f59-be1f-d4786350fba3",
   "metadata": {},
   "outputs": [
    {
     "data": {
      "text/plain": [
       "'HELLO'"
      ]
     },
     "execution_count": 10,
     "metadata": {},
     "output_type": "execute_result"
    }
   ],
   "source": [
    "a.upper()"
   ]
  },
  {
   "cell_type": "code",
   "execution_count": 11,
   "id": "971ddf06-1162-4065-bfc0-cec3f35b569c",
   "metadata": {},
   "outputs": [
    {
     "name": "stdout",
     "output_type": "stream",
     "text": [
      "hELLo\n"
     ]
    }
   ],
   "source": [
    "print(a)"
   ]
  },
  {
   "cell_type": "markdown",
   "id": "31d2b9e3-ac57-43e8-8123-2c4ba7df5896",
   "metadata": {},
   "source": [
    "### String Indexing\n"
   ]
  },
  {
   "cell_type": "code",
   "execution_count": 12,
   "id": "30428901-c13f-4e71-986a-757c3459d5a0",
   "metadata": {},
   "outputs": [
    {
     "data": {
      "text/plain": [
       "4"
      ]
     },
     "execution_count": 12,
     "metadata": {},
     "output_type": "execute_result"
    }
   ],
   "source": [
    " a.index(\"o\")"
   ]
  },
  {
   "cell_type": "code",
   "execution_count": 13,
   "id": "e91834ab-e78a-48b8-8763-0d5de9804cf3",
   "metadata": {},
   "outputs": [
    {
     "data": {
      "text/plain": [
       "10"
      ]
     },
     "execution_count": 13,
     "metadata": {},
     "output_type": "execute_result"
    }
   ],
   "source": [
    "a=\"Hello! My name is Denis Raj Timilsena\"\n",
    "a.index(\"name\")\n"
   ]
  },
  {
   "cell_type": "code",
   "execution_count": 14,
   "id": "30d35ab2-1174-466d-805c-35065b31e511",
   "metadata": {},
   "outputs": [
    {
     "name": "stdout",
     "output_type": "stream",
     "text": [
      "n\n"
     ]
    }
   ],
   "source": [
    "print(a[10])"
   ]
  },
  {
   "cell_type": "markdown",
   "id": "af289104-38bf-40d5-bd1d-1e3a751e513c",
   "metadata": {
    "jp-MarkdownHeadingCollapsed": true
   },
   "source": [
    "## String Formatting\n"
   ]
  },
  {
   "cell_type": "code",
   "execution_count": 15,
   "id": "309231b2-ed2f-486a-a8d3-e5c404a0065b",
   "metadata": {},
   "outputs": [
    {
     "name": "stdout",
     "output_type": "stream",
     "text": [
      "ld!\n"
     ]
    }
   ],
   "source": [
    "b = \"  Hello, World!  \"\n",
    "print(b[-5:-2])\n",
    "\n"
   ]
  },
  {
   "cell_type": "code",
   "execution_count": 16,
   "id": "9594bc69-b3ae-4c5d-b84c-4a4e83d04289",
   "metadata": {},
   "outputs": [
    {
     "name": "stdout",
     "output_type": "stream",
     "text": [
      "Hello, World!\n"
     ]
    }
   ],
   "source": [
    "print(b.strip())"
   ]
  },
  {
   "cell_type": "code",
   "execution_count": 17,
   "id": "9a1ac92f-7364-48ce-9009-9046872083dd",
   "metadata": {},
   "outputs": [
    {
     "name": "stdout",
     "output_type": "stream",
     "text": [
      "My name is John, I am 36\n"
     ]
    }
   ],
   "source": [
    "age = 36\n",
    "txt = f\"My name is John, I am {age}\"\n",
    "print(txt)\n"
   ]
  },
  {
   "cell_type": "code",
   "execution_count": 18,
   "id": "8d15aa62-320b-4afd-9bfe-94019899ada6",
   "metadata": {},
   "outputs": [],
   "source": [
    "txt=f\"My name is Denish Raj Timilsena, and I am {age} years old\""
   ]
  },
  {
   "cell_type": "code",
   "execution_count": 19,
   "id": "eb816dce-e472-444c-b5ab-cef452031f63",
   "metadata": {},
   "outputs": [
    {
     "name": "stdout",
     "output_type": "stream",
     "text": [
      "My name is Denish Raj Timilsena, and I am 36 years old\n"
     ]
    }
   ],
   "source": [
    "print(txt)"
   ]
  },
  {
   "cell_type": "code",
   "execution_count": 20,
   "id": "5689a80b-dc7b-48ba-8937-105f293f1656",
   "metadata": {},
   "outputs": [],
   "source": [
    "txt = \"We are the so-called \\\"Vikings\\\" from the north.\""
   ]
  },
  {
   "cell_type": "code",
   "execution_count": 21,
   "id": "4aca2204-ecb1-4650-957d-158892b997d3",
   "metadata": {},
   "outputs": [
    {
     "name": "stdout",
     "output_type": "stream",
     "text": [
      "We are the so-called \"Vikings\" from the north.\n"
     ]
    }
   ],
   "source": [
    "print(txt)"
   ]
  },
  {
   "cell_type": "code",
   "execution_count": 22,
   "id": "2bc6eeca-e3c4-41a8-aa34-37471a359649",
   "metadata": {},
   "outputs": [],
   "source": [
    "txt = \"We are the so-called \\'Vikings\\' from the north.\""
   ]
  },
  {
   "cell_type": "code",
   "execution_count": 23,
   "id": "5e263da6-a111-4ad4-a8c9-34a620f42b2f",
   "metadata": {},
   "outputs": [
    {
     "name": "stdout",
     "output_type": "stream",
     "text": [
      "We are the so-called 'Vikings' from the north.\n"
     ]
    }
   ],
   "source": [
    "print(txt)"
   ]
  },
  {
   "cell_type": "code",
   "execution_count": 24,
   "id": "6da23e1a-b5f2-4d22-a3d8-601be1137dca",
   "metadata": {},
   "outputs": [],
   "source": [
    "txt = \"We are the so-called \\r Vikings from the north.\""
   ]
  },
  {
   "cell_type": "code",
   "execution_count": 25,
   "id": "5aef309f-7ecb-4fe5-975f-52708efdfd34",
   "metadata": {},
   "outputs": [
    {
     "name": "stdout",
     "output_type": "stream",
     "text": [
      " Vikings from the north.\n"
     ]
    }
   ],
   "source": [
    "print(txt)"
   ]
  },
  {
   "cell_type": "markdown",
   "id": "587e996b-155f-495e-a74f-e809fd894ccf",
   "metadata": {},
   "source": [
    "### String Slicing\n",
    "\n",
    "#### syntax : string[strat:stop:step]\n"
   ]
  },
  {
   "cell_type": "code",
   "execution_count": 26,
   "id": "e6a6927d-08d8-42b1-8c3a-ea5b49b1b939",
   "metadata": {},
   "outputs": [
    {
     "name": "stdout",
     "output_type": "stream",
     "text": [
      "orl\n"
     ]
    }
   ],
   "source": [
    "b = \"Hello, World!\"\n",
    "print(b[-5:-2])\n",
    "\n"
   ]
  },
  {
   "cell_type": "code",
   "execution_count": 27,
   "id": "bc6d6b2b-e222-4c38-8e3c-0a6909d85542",
   "metadata": {},
   "outputs": [
    {
     "data": {
      "text/plain": [
       "'l,'"
      ]
     },
     "execution_count": 27,
     "metadata": {},
     "output_type": "execute_result"
    }
   ],
   "source": [
    "b[3:6:2]"
   ]
  },
  {
   "cell_type": "markdown",
   "id": "c416019c-e43f-42c7-9013-226b9393ada5",
   "metadata": {},
   "source": [
    "# LISTS\n"
   ]
  },
  {
   "cell_type": "code",
   "execution_count": 28,
   "id": "baf093db-4080-407e-8f50-77461b1e1c5a",
   "metadata": {},
   "outputs": [
    {
     "name": "stdout",
     "output_type": "stream",
     "text": [
      "['Dneis', 'timilsena', 'raj']\n"
     ]
    }
   ],
   "source": [
    "list=[\"Dneis\", \"timilsena\", \"raj\"]\n",
    "print(list)"
   ]
  },
  {
   "cell_type": "code",
   "execution_count": 29,
   "id": "5eddd71a-ffda-4816-8c18-f45212801b30",
   "metadata": {},
   "outputs": [
    {
     "name": "stdout",
     "output_type": "stream",
     "text": [
      "['apple', 'banana', 'cherry']\n"
     ]
    }
   ],
   "source": [
    "thislist = [\"apple\", \"banana\", \"cherry\"]\n",
    "print(thislist)"
   ]
  },
  {
   "cell_type": "code",
   "execution_count": 30,
   "id": "6cb86f68-8897-48be-a204-33ea1dc9b7e5",
   "metadata": {},
   "outputs": [
    {
     "data": {
      "text/plain": [
       "'Dneis'"
      ]
     },
     "execution_count": 30,
     "metadata": {},
     "output_type": "execute_result"
    }
   ],
   "source": [
    "list[0]"
   ]
  },
  {
   "cell_type": "markdown",
   "id": "5016debb-3f6b-4a88-9bac-c73bf01690f5",
   "metadata": {},
   "source": [
    "Operator Example Same As Try it\n",
    "= x = 5 x = 5\n",
    "+= x += 3 x = x + 3\n",
    "-= x -= 3 x = x - 3\n",
    "_= x _= 3 x = x \\* 3\n",
    "/= x /= 3 x = x / 3\n",
    "%= x %= 3 x = x % 3\n",
    "//= x //= 3 x = x // 3\n",
    "**= x **= 3 x = x \\*\\* 3\n",
    "&= x &= 3 x = x & 3\n",
    "|= x |= 3 x = x | 3\n",
    "^= x ^= 3 x = x ^ 3\n",
    "\n",
    "> > = x >>= 3 x = x >> 3\n",
    "> > <<= x <<= 3 x = x << 3\n",
    "> > := print(x := 3) x = 3\n",
    "> > print(x)\n"
   ]
  },
  {
   "cell_type": "code",
   "execution_count": 31,
   "id": "1095b5ee-c625-41ce-ba44-37747ed5b657",
   "metadata": {},
   "outputs": [],
   "source": [
    "list1 = [\"abc\", 34, True, 40, \"male\"]\n",
    "#List can be any mixture of datatypes "
   ]
  },
  {
   "cell_type": "code",
   "execution_count": 32,
   "id": "58f3e7f7-3b92-43ef-83fe-4a694c8362aa",
   "metadata": {},
   "outputs": [
    {
     "name": "stdout",
     "output_type": "stream",
     "text": [
      "<class 'list'>\n"
     ]
    }
   ],
   "source": [
    "print(type(list1))"
   ]
  },
  {
   "cell_type": "markdown",
   "id": "7fc24cef-e8b2-4226-99d0-90991cc85d37",
   "metadata": {},
   "source": [
    "### List constructor\n"
   ]
  },
  {
   "cell_type": "code",
   "execution_count": 33,
   "id": "accddd04-3756-44af-b30b-c2551c9e3694",
   "metadata": {},
   "outputs": [
    {
     "name": "stdout",
     "output_type": "stream",
     "text": [
      "['apple', 'banana', 'cherry']\n"
     ]
    }
   ],
   "source": [
    "del list  # because the above declaration of list is overwrite thus the list is not callable \n",
    "\n",
    "thislist = list((\"apple\", \"banana\", \"cherry\")) # note the double round-brackets\n",
    "print(thislist)"
   ]
  },
  {
   "cell_type": "markdown",
   "id": "62651a1f-2f5a-4787-86cf-2ab94088cc74",
   "metadata": {
    "jp-MarkdownHeadingCollapsed": true
   },
   "source": [
    "## Python Collections (Arrays)\n",
    "\n",
    "There are four collection data types in the Python programming language:\n",
    "\n",
    "List is a collection which is ordered and changeable. Allows duplicate members.\n",
    "Tuple is a collection which is ordered and unchangeable. Allows duplicate members.\n",
    "Set is a collection which is unordered, unchangeable\\*, and unindexed. No duplicate members.\n",
    "Dictionary is a collection which is ordered\\*\\* and changeable. No duplicate members.\n"
   ]
  },
  {
   "cell_type": "markdown",
   "id": "eb3fa8d1-3467-4eb5-9e5f-9915af2e3399",
   "metadata": {
    "jp-MarkdownHeadingCollapsed": true
   },
   "source": [
    "## Accessing list items\n"
   ]
  },
  {
   "cell_type": "code",
   "execution_count": 34,
   "id": "8d9784bc-fe92-489a-8d35-3768bdf182d3",
   "metadata": {},
   "outputs": [
    {
     "name": "stdout",
     "output_type": "stream",
     "text": [
      "banana\n"
     ]
    }
   ],
   "source": [
    "denis=[\"apple\", \"banana\", \"cherry\"]\n",
    "print(denis[1])\n"
   ]
  },
  {
   "cell_type": "code",
   "execution_count": 35,
   "id": "8069edfc-7dee-40bc-b194-afc381bc96f1",
   "metadata": {},
   "outputs": [
    {
     "name": "stdout",
     "output_type": "stream",
     "text": [
      "banana\n"
     ]
    }
   ],
   "source": [
    "# Negative Indexing \n",
    "\n",
    "thislist = [\"apple\", \"banana\", \"cherry\"]\n",
    "print(thislist[-2])"
   ]
  },
  {
   "cell_type": "code",
   "execution_count": 36,
   "id": "7cd92d72-8c52-41ec-ae68-a6a8023e8ce3",
   "metadata": {},
   "outputs": [
    {
     "name": "stdout",
     "output_type": "stream",
     "text": [
      "['cherry', 'orange', 'kiwi']\n"
     ]
    }
   ],
   "source": [
    "thislist = [\"apple\", \"banana\", \"cherry\", \"orange\", \"kiwi\", \"melon\", \"mango\"]\n",
    "print(thislist[2:5])"
   ]
  },
  {
   "cell_type": "code",
   "execution_count": 37,
   "id": "dc22762c-1993-4d80-b202-e0e754049bf4",
   "metadata": {},
   "outputs": [],
   "source": [
    "### This is same as slicing in string "
   ]
  },
  {
   "cell_type": "code",
   "execution_count": 38,
   "id": "9fb4789a-e2a7-41ce-ace8-f2bd15fb4531",
   "metadata": {},
   "outputs": [
    {
     "name": "stdout",
     "output_type": "stream",
     "text": [
      "['cherry', 'orange', 'kiwi', 'melon', 'mango']\n"
     ]
    }
   ],
   "source": [
    "thislist = [\"apple\", \"banana\", \"cherry\", \"orange\", \"kiwi\", \"melon\", \"mango\"]\n",
    "print(thislist[2:])"
   ]
  },
  {
   "cell_type": "code",
   "execution_count": 39,
   "id": "ac664129-cf36-4c21-9187-5e554c366278",
   "metadata": {},
   "outputs": [
    {
     "name": "stdout",
     "output_type": "stream",
     "text": [
      "['apple', 'banana', 'cherry', 'orange', 'kiwi']\n"
     ]
    }
   ],
   "source": [
    "thislist = [\"apple\", \"banana\", \"cherry\", \"orange\", \"kiwi\", \"melon\", \"mango\"]\n",
    "print(thislist[:5])"
   ]
  },
  {
   "cell_type": "code",
   "execution_count": 40,
   "id": "8875766d-16c6-419c-9f68-2930a29c6821",
   "metadata": {},
   "outputs": [],
   "source": [
    "# Range of negative indexing "
   ]
  },
  {
   "cell_type": "code",
   "execution_count": 41,
   "id": "221e9ef6-efa0-4998-aa63-8c9b1eaf84a4",
   "metadata": {},
   "outputs": [
    {
     "name": "stdout",
     "output_type": "stream",
     "text": [
      "['cherry', 'orange', 'kiwi']\n"
     ]
    }
   ],
   "source": [
    "thislist = [\"apple\", \"banana\", \"cherry\", \"orange\", \"kiwi\", \"melon\", \"mango\"]\n",
    "print(thislist[-5:-2])"
   ]
  },
  {
   "cell_type": "code",
   "execution_count": 42,
   "id": "bba8a2b1-2d59-466d-acf7-e4eb7419c938",
   "metadata": {},
   "outputs": [
    {
     "name": "stdout",
     "output_type": "stream",
     "text": [
      "Yes, apple in this list \n"
     ]
    }
   ],
   "source": [
    "thislist = [\"apple\", \"banana\", \"cherry\", \"orange\", \"kiwi\", \"melon\", \"mango\"]\n",
    "if \"apple\" in thislist:\n",
    "    print(\"Yes, apple in this list \")\n",
    "    "
   ]
  },
  {
   "cell_type": "code",
   "execution_count": 43,
   "id": "1fd8c4f7-6f82-4a0c-816b-ca2474c1773b",
   "metadata": {},
   "outputs": [
    {
     "name": "stdout",
     "output_type": "stream",
     "text": [
      "3\n"
     ]
    }
   ],
   "source": [
    "thislist = [\"apple\", \"banana\", \"cherry\", \"orange\", \"kiwi\", \"melon\", \"mango\"]\n",
    "if \"orange\" in thislist:\n",
    "    print(thislist.index(\"orange\"))"
   ]
  },
  {
   "cell_type": "markdown",
   "id": "d720ed56-0aa0-4259-aede-1bfa82d196f2",
   "metadata": {
    "jp-MarkdownHeadingCollapsed": true
   },
   "source": [
    "## Changing the list\n"
   ]
  },
  {
   "cell_type": "code",
   "execution_count": 44,
   "id": "73e0daa7-fb75-4564-ba3f-0f127c899f94",
   "metadata": {},
   "outputs": [
    {
     "name": "stdout",
     "output_type": "stream",
     "text": [
      "['apple', 'blackcurrant', 'cherry']\n"
     ]
    }
   ],
   "source": [
    "thislist = [\"apple\", \"banana\", \"cherry\"]\n",
    "thislist[1] = \"blackcurrant\"\n",
    "print(thislist)"
   ]
  },
  {
   "cell_type": "code",
   "execution_count": 45,
   "id": "8fb902c4-c8fc-408b-a4ff-678d3925a936",
   "metadata": {},
   "outputs": [
    {
     "name": "stdout",
     "output_type": "stream",
     "text": [
      "['apple', 'd', 'e', 'n', 'i', 's', 'cherry']\n"
     ]
    }
   ],
   "source": [
    "thislist = [\"apple\", \"banana\", \"cherry\"]\n",
    "thislist[1:2] = \"denis\"\n",
    "print(thislist)"
   ]
  },
  {
   "cell_type": "code",
   "execution_count": 46,
   "id": "7758fdfb-ad6f-4d0c-b819-f88858a001ee",
   "metadata": {},
   "outputs": [
    {
     "name": "stdout",
     "output_type": "stream",
     "text": [
      "['apple', 'd', 'e', 'n', 'i', 's', 'cherry']\n"
     ]
    }
   ],
   "source": [
    "thislist = [\"apple\", \"banana\", \"cherry\"]\n",
    "thislist[1:2] = \"denis\"\n",
    "print(thislist)"
   ]
  },
  {
   "cell_type": "code",
   "execution_count": 47,
   "id": "2bdc012e-d039-4ec2-95b9-d2d5f8cbb3d6",
   "metadata": {},
   "outputs": [
    {
     "name": "stdout",
     "output_type": "stream",
     "text": [
      "['apple', 'banana', 'watermelon', 'cherry']\n"
     ]
    }
   ],
   "source": [
    "## inserting at the position\n",
    "thislist = [\"apple\", \"banana\", \"cherry\"]\n",
    "thislist.insert(2, \"watermelon\")\n",
    "print(thislist)"
   ]
  },
  {
   "cell_type": "code",
   "execution_count": 48,
   "id": "d78aa511-88ad-47f5-b0f2-290e9c21bc6b",
   "metadata": {},
   "outputs": [
    {
     "name": "stdout",
     "output_type": "stream",
     "text": [
      "['apple', 'banana', 'cherry', 'orange']\n"
     ]
    }
   ],
   "source": [
    "thislist = [\"apple\", \"banana\", \"cherry\"]\n",
    "thislist.append(\"orange\")\n",
    "print(thislist)"
   ]
  },
  {
   "cell_type": "code",
   "execution_count": 49,
   "id": "9ac7fe57-3489-4d64-a722-fec8a9359e2e",
   "metadata": {},
   "outputs": [
    {
     "name": "stdout",
     "output_type": "stream",
     "text": [
      "['apple', 'banana', 'cherry', 'mango', 'pineapple', 'papaya']\n"
     ]
    }
   ],
   "source": [
    "## Extending the list (adding another list)\n",
    "\n",
    "thislist = [\"apple\", \"banana\", \"cherry\"]\n",
    "tropical = [\"mango\", \"pineapple\", \"papaya\"]\n",
    "thislist.extend(tropical)\n",
    "print(thislist)"
   ]
  },
  {
   "cell_type": "markdown",
   "id": "1a28f234-fa3f-4f70-9258-0eeebf9e1d85",
   "metadata": {
    "jp-MarkdownHeadingCollapsed": true
   },
   "source": [
    "## Add Any Iterable\n",
    "\n",
    "The extend() method does not have to append lists, you can add any iterable object (tuples, sets, dictionaries etc.).\n"
   ]
  },
  {
   "cell_type": "code",
   "execution_count": 50,
   "id": "e5f44208-e1a6-40a8-a2d0-1aa8e31b063e",
   "metadata": {},
   "outputs": [
    {
     "ename": "SyntaxError",
     "evalue": "invalid syntax (2325290423.py, line 3)",
     "output_type": "error",
     "traceback": [
      "\u001b[1;36m  Cell \u001b[1;32mIn[50], line 3\u001b[1;36m\u001b[0m\n\u001b[1;33m    thislist.extend(thistuple)S\u001b[0m\n\u001b[1;37m                              ^\u001b[0m\n\u001b[1;31mSyntaxError\u001b[0m\u001b[1;31m:\u001b[0m invalid syntax\n"
     ]
    }
   ],
   "source": [
    "thislist = [\"apple\", \"banana\", \"cherry\"]\n",
    "thistuple = (\"kiwi\", \"orange\")\n",
    "thislist.extend(thistuple)S\n",
    "print(thislist)"
   ]
  },
  {
   "cell_type": "code",
   "execution_count": null,
   "id": "d8a7d7bc-3571-46fd-bbcc-770b651b1faf",
   "metadata": {},
   "outputs": [
    {
     "name": "stdout",
     "output_type": "stream",
     "text": [
      "['apple', 'cherry', 'banana', 'kiwi']\n"
     ]
    }
   ],
   "source": [
    "## Remove List  this remove the first recurrance of the \"banana\"\n",
    "thislist = [\"apple\", \"banana\", \"cherry\", \"banana\", \"kiwi\"]\n",
    "thislist.remove(\"banana\")\n",
    "print(thislist)"
   ]
  },
  {
   "cell_type": "code",
   "execution_count": null,
   "id": "fd3b65f2-ff38-4796-a3bf-2de912070fee",
   "metadata": {},
   "outputs": [
    {
     "data": {
      "text/plain": [
       "'kiwi'"
      ]
     },
     "execution_count": 2,
     "metadata": {},
     "output_type": "execute_result"
    }
   ],
   "source": [
    "## To remove specific index\n",
    "# pop() is used\n",
    "\n",
    "thislist.pop(3)"
   ]
  },
  {
   "cell_type": "code",
   "execution_count": null,
   "id": "313b5b39-1fd0-41e1-9435-7fbcd1d0d7ca",
   "metadata": {},
   "outputs": [
    {
     "name": "stdout",
     "output_type": "stream",
     "text": [
      "['apple', 'cherry', 'banana']\n"
     ]
    }
   ],
   "source": [
    "print(thislist)"
   ]
  },
  {
   "cell_type": "code",
   "execution_count": null,
   "id": "7c6685ce-83b2-48eb-adb7-1e014be2389b",
   "metadata": {},
   "outputs": [
    {
     "data": {
      "text/plain": [
       "'banana'"
      ]
     },
     "execution_count": 4,
     "metadata": {},
     "output_type": "execute_result"
    }
   ],
   "source": [
    "## To remove last item just pop()\n",
    "thislist.pop()"
   ]
  },
  {
   "cell_type": "code",
   "execution_count": null,
   "id": "ed1c1c7e-5571-460d-9a72-2cf2ee1de576",
   "metadata": {},
   "outputs": [
    {
     "name": "stdout",
     "output_type": "stream",
     "text": [
      "['apple', 'cherry']\n"
     ]
    }
   ],
   "source": [
    "print(thislist)"
   ]
  },
  {
   "cell_type": "code",
   "execution_count": null,
   "id": "29051478-6059-4652-9a85-3818deb96131",
   "metadata": {},
   "outputs": [
    {
     "name": "stdout",
     "output_type": "stream",
     "text": [
      "['apple', 'banana', 'cherry', 'banana', 'kiwi']\n"
     ]
    },
    {
     "ename": "NameError",
     "evalue": "name 'thislis' is not defined",
     "output_type": "error",
     "traceback": [
      "\u001b[1;31m---------------------------------------------------------------------------\u001b[0m",
      "\u001b[1;31mNameError\u001b[0m                                 Traceback (most recent call last)",
      "Cell \u001b[1;32mIn[21], line 5\u001b[0m\n\u001b[0;32m      3\u001b[0m \u001b[38;5;28mprint\u001b[39m(thislis)\n\u001b[0;32m      4\u001b[0m \u001b[38;5;28;01mdel\u001b[39;00m thislis\n\u001b[1;32m----> 5\u001b[0m \u001b[38;5;28mprint\u001b[39m(\u001b[43mthislis\u001b[49m) \u001b[38;5;66;03m#the list is not there (its deleted)\u001b[39;00m\n",
      "\u001b[1;31mNameError\u001b[0m: name 'thislis' is not defined"
     ]
    }
   ],
   "source": [
    "## to delete the entire list \n",
    "thislis = [\"apple\", \"banana\", \"cherry\", \"banana\", \"kiwi\"]\n",
    "print(thislis)\n",
    "del thislis\n",
    "print(thislis) #the list is not there (its deleted)"
   ]
  },
  {
   "cell_type": "code",
   "execution_count": null,
   "id": "cb43984d-4166-446a-9188-6c601cda9a0d",
   "metadata": {},
   "outputs": [],
   "source": [
    "##clear(method)\n",
    "thislist=[\"apple\", \"banana\", \"cherry\"]\n",
    "thislist.clear()\n"
   ]
  },
  {
   "cell_type": "code",
   "execution_count": null,
   "id": "9c2cd3ae-99ab-4a13-b399-fcbd003d94a0",
   "metadata": {},
   "outputs": [
    {
     "data": {
      "text/plain": [
       "[]"
      ]
     },
     "execution_count": 18,
     "metadata": {},
     "output_type": "execute_result"
    }
   ],
   "source": [
    "thislist"
   ]
  },
  {
   "cell_type": "markdown",
   "id": "51455087-7050-4d25-b173-9145e336aa45",
   "metadata": {},
   "source": [
    "## Loop in list( for..in, for .. in range, while)\n"
   ]
  },
  {
   "cell_type": "code",
   "execution_count": null,
   "id": "c1102c75-f81e-411a-90ca-51cbeb47d646",
   "metadata": {},
   "outputs": [
    {
     "name": "stdout",
     "output_type": "stream",
     "text": [
      "apple\n",
      "banana\n",
      "d\n",
      "cherry\n"
     ]
    }
   ],
   "source": [
    "thislist = [\"apple\", \"banana\", \"d\" ,\"cherry\"]\n",
    "for x in thislist:\n",
    "  print(x)\n"
   ]
  },
  {
   "cell_type": "code",
   "execution_count": null,
   "id": "8c17178c-3df2-41e5-9ea3-953913b052a1",
   "metadata": {},
   "outputs": [
    {
     "name": "stdout",
     "output_type": "stream",
     "text": [
      "apple\n",
      "banana\n",
      "cherry\n"
     ]
    }
   ],
   "source": [
    "thislist = [\"apple\", \"banana\", \"cherry\"]\n",
    "for i in range(len(thislist)):\n",
    "  print(thislist[i])"
   ]
  },
  {
   "cell_type": "code",
   "execution_count": null,
   "id": "b9229dfc-2972-4769-97bc-aa798c63d9b7",
   "metadata": {},
   "outputs": [
    {
     "name": "stdout",
     "output_type": "stream",
     "text": [
      "denis\n",
      "sagar\n",
      "sailesh\n",
      "lokesh\n"
     ]
    }
   ],
   "source": [
    "denis=[\"denis\",\"sagar\",\"sailesh\",\"lokesh\"]\n",
    "for i in range(len(denis)):\n",
    "    print(denis[i])\n",
    "    \n"
   ]
  },
  {
   "cell_type": "code",
   "execution_count": null,
   "id": "f65de2dd-5550-4e66-ad9c-13612815e50e",
   "metadata": {},
   "outputs": [
    {
     "name": "stdout",
     "output_type": "stream",
     "text": [
      "denis\n",
      "sagar\n",
      "sailesh\n",
      "lokesh\n"
     ]
    }
   ],
   "source": [
    "for x in denis:\n",
    "    print(x)"
   ]
  },
  {
   "cell_type": "code",
   "execution_count": null,
   "id": "f79cffb0-2202-47e7-9398-81ae59cfcb8b",
   "metadata": {},
   "outputs": [],
   "source": [
    "# Using while loop"
   ]
  },
  {
   "cell_type": "code",
   "execution_count": null,
   "id": "ff340274-f50e-4789-b027-8abcc848889c",
   "metadata": {},
   "outputs": [],
   "source": [
    "i=0\n",
    "while i<len(denis):\n",
    "    print(denis[i])\n",
    "    i=i+1"
   ]
  },
  {
   "cell_type": "code",
   "execution_count": null,
   "id": "67331d0f-e698-4a6e-a241-82857c522ab8",
   "metadata": {},
   "outputs": [
    {
     "name": "stdout",
     "output_type": "stream",
     "text": [
      "denis\n",
      "tilak\n",
      "sagar\n",
      "sailesh\n"
     ]
    }
   ],
   "source": [
    "denis=[\"denis\", \"tilak\", \"sagar\", \"sailesh\"]\n",
    "i=0\n",
    "while i<len(denis):\n",
    "    print(denis[i])\n",
    "    i=i+1"
   ]
  },
  {
   "cell_type": "code",
   "execution_count": null,
   "id": "ced79c9a-204a-44bb-802c-9f3e799ca61c",
   "metadata": {},
   "outputs": [
    {
     "ename": "SyntaxError",
     "evalue": "cannot assign to literal (3491067359.py, line 4)",
     "output_type": "error",
     "traceback": [
      "\u001b[1;36m  Cell \u001b[1;32mIn[1], line 4\u001b[1;36m\u001b[0m\n\u001b[1;33m    for \"a\" in x:\u001b[0m\n\u001b[1;37m        ^\u001b[0m\n\u001b[1;31mSyntaxError\u001b[0m\u001b[1;31m:\u001b[0m cannot assign to literal\n"
     ]
    }
   ],
   "source": [
    "fruits = [\"apple\", \"banana\", \"cherry\", \"kiwi\", \"mango\"]\n",
    "newlist=[]\n",
    "for x in fruits:\n",
    "    for \"a\" in x:\n",
    "        newlist.append(x)\n",
    "\n",
    "print(newlist)"
   ]
  },
  {
   "cell_type": "code",
   "execution_count": null,
   "id": "b703cc42-d6bb-404d-82a4-8dd38096ad84",
   "metadata": {},
   "outputs": [
    {
     "name": "stdout",
     "output_type": "stream",
     "text": [
      "['apple', 'banana', 'mango']\n"
     ]
    }
   ],
   "source": [
    "fruits = [\"apple\", \"banana\", \"cherry\", \"kiwi\", \"mango\"]\n",
    "newlist = []\n",
    "\n",
    "for x in fruits:\n",
    "  if \"a\" in x:\n",
    "    newlist.append(x)\n",
    "\n",
    "print(newlist)\n"
   ]
  },
  {
   "cell_type": "code",
   "execution_count": null,
   "id": "a207e6f3-438c-4f12-95ed-015634906783",
   "metadata": {},
   "outputs": [],
   "source": [
    "newlist = [x for x in fruits if \"a\" in x]"
   ]
  },
  {
   "cell_type": "code",
   "execution_count": null,
   "id": "4d240d1a-c439-4d97-a256-5d1cc67440b3",
   "metadata": {},
   "outputs": [
    {
     "name": "stdout",
     "output_type": "stream",
     "text": [
      "['apple', 'banana', 'mango']\n"
     ]
    }
   ],
   "source": [
    "print(newlist)"
   ]
  },
  {
   "cell_type": "code",
   "execution_count": null,
   "id": "b727359f-b098-4848-a551-85106cb136b5",
   "metadata": {},
   "outputs": [
    {
     "name": "stdout",
     "output_type": "stream",
     "text": [
      "['banana', 'kiwi', 'mango', 'orange', 'pineapple']\n"
     ]
    }
   ],
   "source": [
    "## sorting the list \n",
    "thislist = [\"orange\", \"mango\", \"kiwi\", \"pineapple\", \"banana\"]\n",
    "thislist.sort()\n",
    "print(thislist)"
   ]
  },
  {
   "cell_type": "code",
   "execution_count": null,
   "id": "39960161-844d-4ebd-8cee-31aadcaa0be2",
   "metadata": {},
   "outputs": [
    {
     "name": "stdout",
     "output_type": "stream",
     "text": [
      "['pineapple', 'orange', 'mango', 'kiwi', 'banana']\n"
     ]
    }
   ],
   "source": [
    "thislist = [\"orange\", \"mango\", \"kiwi\", \"pineapple\", \"banana\"]\n",
    "thislist.sort(reverse = True)\n",
    "print(thislist)"
   ]
  },
  {
   "cell_type": "code",
   "execution_count": null,
   "id": "ffa96a75-a450-4a37-b7ed-dbd2d4246f45",
   "metadata": {},
   "outputs": [
    {
     "name": "stdout",
     "output_type": "stream",
     "text": [
      "[100, 82, 65, 50, 23]\n"
     ]
    }
   ],
   "source": [
    "thislist = [100, 50, 65, 82, 23]\n",
    "thislist.sort(reverse = True)\n",
    "print(thislist)"
   ]
  },
  {
   "cell_type": "code",
   "execution_count": null,
   "id": "eaff04df-a93e-4879-8709-54e48e4c97d4",
   "metadata": {},
   "outputs": [],
   "source": [
    "# sort the list how close the number is to 50"
   ]
  },
  {
   "cell_type": "code",
   "execution_count": null,
   "id": "2188aa4f-4323-4c97-8fa9-e904de66acd4",
   "metadata": {},
   "outputs": [
    {
     "name": "stdout",
     "output_type": "stream",
     "text": [
      "[51, 49, 34, 23, 12, 12, 100, 3122]\n"
     ]
    }
   ],
   "source": [
    "def myfunc(n):\n",
    "    return abs(50-n)\n",
    "thislist=[100,23,3122,12,12,51,34,49]\n",
    "thislist.sort(key=myfunc)\n",
    "print(thislist)"
   ]
  },
  {
   "cell_type": "code",
   "execution_count": null,
   "id": "81e273c0-3daf-4cff-8fa0-d8508ef3955e",
   "metadata": {},
   "outputs": [
    {
     "name": "stdout",
     "output_type": "stream",
     "text": [
      "['banana', 'cherry', 'Kiwi', 'Orange']\n"
     ]
    }
   ],
   "source": [
    "thislist = [\"banana\", \"Orange\", \"Kiwi\", \"cherry\"]\n",
    "thislist.sort(key = str.lower)\n",
    "print(thislist)"
   ]
  },
  {
   "cell_type": "code",
   "execution_count": null,
   "id": "0ed6f6bb-5e64-47d4-a3e5-3ad9dfc1348f",
   "metadata": {},
   "outputs": [
    {
     "ename": "NameError",
     "evalue": "name 'thislist' is not defined",
     "output_type": "error",
     "traceback": [
      "\u001b[1;31m---------------------------------------------------------------------------\u001b[0m",
      "\u001b[1;31mNameError\u001b[0m                                 Traceback (most recent call last)",
      "Cell \u001b[1;32mIn[1], line 1\u001b[0m\n\u001b[1;32m----> 1\u001b[0m mylist\u001b[38;5;241m=\u001b[39m\u001b[43mthislist\u001b[49m\u001b[38;5;241m.\u001b[39mcopy()\n\u001b[0;32m      2\u001b[0m \u001b[38;5;28mprint\u001b[39m(mylist)\n",
      "\u001b[1;31mNameError\u001b[0m: name 'thislist' is not defined"
     ]
    }
   ],
   "source": [
    "mylist=thislist.copy()\n",
    "print(mylist)"
   ]
  },
  {
   "cell_type": "code",
   "execution_count": null,
   "id": "c78143c6-a914-4530-8b89-7d768672fb66",
   "metadata": {},
   "outputs": [
    {
     "name": "stdout",
     "output_type": "stream",
     "text": [
      "['apple', 'banana', 'cherry']\n"
     ]
    }
   ],
   "source": [
    "thislist = [\"apple\", \"banana\", \"cherry\"]\n",
    "mylist = thislist.copy()\n",
    "print(mylist)\n"
   ]
  },
  {
   "cell_type": "code",
   "execution_count": null,
   "id": "c7e37649-7f38-45ef-912c-2da486aa6b1e",
   "metadata": {},
   "outputs": [],
   "source": [
    "slist=list(mylist)"
   ]
  },
  {
   "cell_type": "code",
   "execution_count": null,
   "id": "6514b323-6dbf-41e5-b418-6f7c5239ef0a",
   "metadata": {},
   "outputs": [
    {
     "name": "stdout",
     "output_type": "stream",
     "text": [
      "['apple', 'banana', 'cherry']\n"
     ]
    }
   ],
   "source": [
    "print(slist)"
   ]
  },
  {
   "cell_type": "code",
   "execution_count": null,
   "id": "62d7b19b-361a-4621-9541-96306483c915",
   "metadata": {},
   "outputs": [
    {
     "name": "stdout",
     "output_type": "stream",
     "text": [
      "['apple', 'banana', 'cherry']\n"
     ]
    }
   ],
   "source": [
    "## using slice operator\n",
    "ylist=slist[:]\n",
    "print(ylist)"
   ]
  },
  {
   "cell_type": "code",
   "execution_count": null,
   "id": "5683d454-d195-46d8-b77d-b5059a88a4fa",
   "metadata": {},
   "outputs": [
    {
     "name": "stdout",
     "output_type": "stream",
     "text": [
      "['a', 'b', 'c', 1, 2, 3]\n"
     ]
    }
   ],
   "source": [
    "list1=[\"a\", \"b\",\"c\"]\n",
    "list2=[1,2,3]\n",
    "for x in list2:\n",
    "    list1.append(x)\n",
    "print(list1)"
   ]
  },
  {
   "cell_type": "code",
   "execution_count": null,
   "id": "ad9c136a-4e62-411f-9199-e6ac8a14f039",
   "metadata": {},
   "outputs": [
    {
     "name": "stdout",
     "output_type": "stream",
     "text": [
      "['a', 'b', 'c', 1, 2, 3]\n"
     ]
    }
   ],
   "source": [
    "list1 = [\"a\", \"b\" , \"c\"]\n",
    "list2 = [1, 2, 3]\n",
    "\n",
    "list1.extend(list2)\n",
    "print(list1)\n"
   ]
  },
  {
   "cell_type": "code",
   "execution_count": null,
   "id": "faa292bc-5c65-4e9e-9609-238326c553d3",
   "metadata": {},
   "outputs": [],
   "source": [
    "##List Method\tDescription\n",
    "append()\tAdds an element at the end of the list\n",
    "clear()\tRemoves all the elements from the list\n",
    "copy()\tReturns a copy of the list\n",
    "count()\tReturns the number of elements with the specified value\n",
    "extend()\tAdd the elements of a list (or any iterable), to the end of the current list\n",
    "index()\tReturns the index of the first element with the specified value\n",
    "insert()\tAdds an element at the specified position\n",
    "pop()\tRemoves the element at the specified position\n",
    "remove()\tRemoves the item with the specified value\n",
    "reverse()\tReverses the order of the list\n",
    "sort()"
   ]
  },
  {
   "cell_type": "markdown",
   "id": "c93afa7f-69b6-4d89-a5bd-30ee7cda279f",
   "metadata": {},
   "source": [
    "# Tuple\n"
   ]
  },
  {
   "cell_type": "code",
   "execution_count": null,
   "id": "8e302199-1c8a-4891-b204-19492bc2a3c4",
   "metadata": {},
   "outputs": [],
   "source": [
    "mytuple = (\"apple\", \"banana\", \"cherry\")"
   ]
  },
  {
   "cell_type": "code",
   "execution_count": null,
   "id": "40e891d3-fb55-484a-a1cd-11db982cb5ba",
   "metadata": {},
   "outputs": [
    {
     "ename": "NameError",
     "evalue": "name 'thistuple' is not defined",
     "output_type": "error",
     "traceback": [
      "\u001b[1;31m---------------------------------------------------------------------------\u001b[0m",
      "\u001b[1;31mNameError\u001b[0m                                 Traceback (most recent call last)",
      "Cell \u001b[1;32mIn[10], line 1\u001b[0m\n\u001b[1;32m----> 1\u001b[0m \u001b[38;5;28mprint\u001b[39m(\u001b[43mthistuple\u001b[49m)\n",
      "\u001b[1;31mNameError\u001b[0m: name 'thistuple' is not defined"
     ]
    }
   ],
   "source": [
    "print(thistuple)"
   ]
  },
  {
   "cell_type": "code",
   "execution_count": null,
   "id": "a439a713-a347-4514-99f8-8b492217e1ab",
   "metadata": {},
   "outputs": [
    {
     "name": "stdout",
     "output_type": "stream",
     "text": [
      "('apple', 'banana', 'cherry')\n"
     ]
    }
   ],
   "source": [
    "print(mytuple)"
   ]
  },
  {
   "cell_type": "code",
   "execution_count": null,
   "id": "27fbdb56-7964-41cd-8f5f-20f7f227cec8",
   "metadata": {},
   "outputs": [
    {
     "name": "stdout",
     "output_type": "stream",
     "text": [
      "('apple', 3, 'denish')\n"
     ]
    }
   ],
   "source": [
    "thistuple=(\"apple\",3,\"denish\")\n",
    "print(thistuple)"
   ]
  },
  {
   "cell_type": "code",
   "execution_count": null,
   "id": "2ba834bf-8592-4f46-82aa-cd97fd568d51",
   "metadata": {},
   "outputs": [],
   "source": [
    "thistuple=(\"apple\", 7, True)"
   ]
  },
  {
   "cell_type": "code",
   "execution_count": null,
   "id": "95e9458b-bbdd-4e2a-9176-27e5680f1a52",
   "metadata": {},
   "outputs": [
    {
     "name": "stdout",
     "output_type": "stream",
     "text": [
      "('apple', 7, True)\n"
     ]
    }
   ],
   "source": [
    "print(thistuple)"
   ]
  },
  {
   "cell_type": "code",
   "execution_count": null,
   "id": "4218545a-63e5-4f4e-9842-278d6452e2cf",
   "metadata": {},
   "outputs": [
    {
     "name": "stdout",
     "output_type": "stream",
     "text": [
      "<class 'tuple'>\n"
     ]
    }
   ],
   "source": [
    "print(type(thistuple))"
   ]
  },
  {
   "cell_type": "code",
   "execution_count": null,
   "id": "a35dc743-52f9-4090-8d9f-34f4c8eb4102",
   "metadata": {},
   "outputs": [],
   "source": [
    "#Using tuple() constructor"
   ]
  },
  {
   "cell_type": "markdown",
   "id": "0e0d2760-e9e5-40b4-b108-5ae7d5643f6d",
   "metadata": {},
   "source": [
    "## Accessing tuple\n"
   ]
  },
  {
   "cell_type": "code",
   "execution_count": null,
   "id": "06f28296-48b6-46e1-957a-718132dce72e",
   "metadata": {},
   "outputs": [
    {
     "name": "stdout",
     "output_type": "stream",
     "text": [
      "dol\n"
     ]
    }
   ],
   "source": [
    "thituple = (\"apple\", \"dol\", True, 2.323)\n",
    "print(thituple[1])"
   ]
  },
  {
   "cell_type": "code",
   "execution_count": null,
   "id": "f9cdcccb-d4fb-4a1f-b684-c41334c781dc",
   "metadata": {},
   "outputs": [
    {
     "name": "stdout",
     "output_type": "stream",
     "text": [
      "cherry\n"
     ]
    }
   ],
   "source": [
    "#Negative Indexing \n",
    "thistuple = (\"apple\", \"banana\", \"cherry\")\n",
    "print(thistuple[-1])"
   ]
  },
  {
   "cell_type": "code",
   "execution_count": null,
   "id": "6f3457d3-7b60-4aee-8827-ca345718b727",
   "metadata": {},
   "outputs": [],
   "source": [
    "#We can add range of the indexs\n",
    "thistuple=(23,32,4,53,54)"
   ]
  },
  {
   "cell_type": "code",
   "execution_count": null,
   "id": "53b5efee-8ad7-44c7-81b1-c1a73bd075a9",
   "metadata": {},
   "outputs": [
    {
     "name": "stdout",
     "output_type": "stream",
     "text": [
      "(4, 53, 54)\n"
     ]
    }
   ],
   "source": [
    "print(thistuple[2:5])"
   ]
  },
  {
   "cell_type": "code",
   "execution_count": null,
   "id": "7a9d3de6-d36b-4ce2-88b9-658f84bd8b47",
   "metadata": {},
   "outputs": [
    {
     "name": "stdout",
     "output_type": "stream",
     "text": [
      "(23, 32, 4, 53)\n"
     ]
    }
   ],
   "source": [
    "print(thistuple[:4])"
   ]
  },
  {
   "cell_type": "code",
   "execution_count": 1,
   "id": "9b3a1cd4-0da5-4cbd-bb35-91382622afda",
   "metadata": {},
   "outputs": [
    {
     "name": "stdout",
     "output_type": "stream",
     "text": [
      "('apple', 'kiwi', 'cherry')\n"
     ]
    }
   ],
   "source": [
    "x = (\"apple\", \"banana\", \"cherry\")\n",
    "y = list(x)\n",
    "y[1] = \"kiwi\"\n",
    "x = tuple(y)\n",
    "\n",
    "print(x)"
   ]
  },
  {
   "cell_type": "code",
   "execution_count": 2,
   "id": "3e3237a7-7b85-4308-8deb-ccbdedd57e2e",
   "metadata": {},
   "outputs": [
    {
     "name": "stdout",
     "output_type": "stream",
     "text": [
      "('apple', 'banana', 'cherry', 'orange')\n"
     ]
    }
   ],
   "source": [
    "thistuple = (\"apple\", \"banana\", \"cherry\")\n",
    "y = (\"orange\",)\n",
    "thistuple += y\n",
    "\n",
    "print(thistuple)"
   ]
  },
  {
   "cell_type": "code",
   "execution_count": 6,
   "id": "f57f03b2-bbef-487c-87e4-3389925a0df5",
   "metadata": {},
   "outputs": [],
   "source": [
    "y=(\"denis\",)\n",
    "thistuple=thistuple+y\n"
   ]
  },
  {
   "cell_type": "code",
   "execution_count": 7,
   "id": "4715d32a-44a0-4a79-8e19-3c816272d643",
   "metadata": {},
   "outputs": [
    {
     "name": "stdout",
     "output_type": "stream",
     "text": [
      "('apple', 'banana', 'cherry', 'orange', 'denis')\n"
     ]
    }
   ],
   "source": [
    "print(thistuple)"
   ]
  },
  {
   "cell_type": "code",
   "execution_count": 8,
   "id": "4152bb43-f7d5-4f2f-b7ec-9b46693febe8",
   "metadata": {},
   "outputs": [],
   "source": [
    "thistuple = (\"apple\", \"banana\", \"cherry\")\n",
    "y = list(thistuple)\n",
    "y.remove(\"apple\")\n",
    "thistuple = tuple(y)"
   ]
  },
  {
   "cell_type": "code",
   "execution_count": 9,
   "id": "7f806c7b-40f5-4d8c-857c-8face5320c20",
   "metadata": {},
   "outputs": [
    {
     "name": "stdout",
     "output_type": "stream",
     "text": [
      "('banana', 'cherry')\n"
     ]
    }
   ],
   "source": [
    "print(thistuple)"
   ]
  },
  {
   "cell_type": "code",
   "execution_count": 10,
   "id": "d95b5caf-08de-4492-91c6-d3c83be13ea2",
   "metadata": {},
   "outputs": [
    {
     "name": "stdout",
     "output_type": "stream",
     "text": [
      "apple\n",
      "banana\n",
      "cherry\n"
     ]
    }
   ],
   "source": [
    "fruits = (\"apple\", \"banana\", \"cherry\")\n",
    "(green, yellow, red) = fruits\n",
    "print(green)\n",
    "print(yellow)\n",
    "print(red)"
   ]
  },
  {
   "cell_type": "code",
   "execution_count": 11,
   "id": "f5a349e5-a7b0-4fae-a760-433c8a659d1e",
   "metadata": {},
   "outputs": [
    {
     "name": "stdout",
     "output_type": "stream",
     "text": [
      "apple\n",
      "['mango', 'papaya', 'pineapple']\n",
      "cherry\n"
     ]
    }
   ],
   "source": [
    "fruits = (\"apple\", \"mango\", \"papaya\", \"pineapple\", \"cherry\")\n",
    "(green, *tropic, red) = fruits\n",
    "print(green)\n",
    "print(tropic)\n",
    "print(red)"
   ]
  },
  {
   "cell_type": "code",
   "execution_count": 12,
   "id": "97fbb933-1ced-4359-837c-04b75f34a717",
   "metadata": {},
   "outputs": [
    {
     "name": "stdout",
     "output_type": "stream",
     "text": [
      "apple\n",
      "banana\n",
      "cherry\n"
     ]
    }
   ],
   "source": [
    "thistuple = (\"apple\", \"banana\", \"cherry\")\n",
    "i = 0\n",
    "while i < len(thistuple):\n",
    "  print(thistuple[i])\n",
    "  i = i + 1"
   ]
  },
  {
   "cell_type": "markdown",
   "id": "8b3e20c4-2821-47bc-83eb-3ff2bc5b7731",
   "metadata": {
    "jp-MarkdownHeadingCollapsed": true
   },
   "source": [
    "## Method Description\n",
    "\n",
    "count() Returns the number of times a specified value occurs in a tuple\n",
    "index() Searches the tuple for a specified value and returns the position of where it was found\n"
   ]
  },
  {
   "cell_type": "code",
   "execution_count": 13,
   "id": "aa57d056-d316-4a26-9fd8-5e6e641f17ae",
   "metadata": {},
   "outputs": [
    {
     "name": "stdout",
     "output_type": "stream",
     "text": [
      "{'apple', 'cherry', 'banana'}\n"
     ]
    }
   ],
   "source": [
    "thisset = {\"apple\", \"banana\", \"cherry\"}\n",
    "print(thisset)\n"
   ]
  },
  {
   "cell_type": "code",
   "execution_count": 14,
   "id": "27aa8ac0-95f0-42ea-8d79-9655e9757dcd",
   "metadata": {},
   "outputs": [
    {
     "name": "stdout",
     "output_type": "stream",
     "text": [
      "{False, True, 'apple', 'cherry', 'banana'}\n"
     ]
    }
   ],
   "source": [
    "thisset = {\"apple\", \"banana\", \"cherry\", False, True, 0}\n",
    "\n",
    "print(thisset)"
   ]
  },
  {
   "cell_type": "markdown",
   "id": "30f83e5c-fdc1-4f93-b403-15fdbb583863",
   "metadata": {},
   "source": [
    "# Python Dictionaries\n"
   ]
  },
  {
   "cell_type": "code",
   "execution_count": 15,
   "id": "80651e2b-8f91-4897-bc37-9f0f4caab3f9",
   "metadata": {},
   "outputs": [
    {
     "name": "stdout",
     "output_type": "stream",
     "text": [
      "{'brand': 'Ford', 'model': 'Mustang', 'year': 1964}\n"
     ]
    }
   ],
   "source": [
    "thisdict = {\n",
    "  \"brand\": \"Ford\",\n",
    "  \"model\": \"Mustang\",\n",
    "  \"year\": 1964\n",
    "}\n",
    "print(thisdict)"
   ]
  },
  {
   "cell_type": "code",
   "execution_count": 16,
   "id": "91db1fd7-c75e-442b-bdcc-2f701733fc25",
   "metadata": {},
   "outputs": [
    {
     "name": "stdout",
     "output_type": "stream",
     "text": [
      "Ford\n"
     ]
    }
   ],
   "source": [
    "thisdict = {\n",
    "  \"brand\": \"Ford\",\n",
    "  \"model\": \"Mustang\",\n",
    "  \"year\": 1964\n",
    "}\n",
    "print(thisdict[\"brand\"])"
   ]
  },
  {
   "cell_type": "code",
   "execution_count": 17,
   "id": "a9b2a3c4-2b1d-48b8-83b9-1b8ed0d71bf8",
   "metadata": {},
   "outputs": [
    {
     "name": "stdout",
     "output_type": "stream",
     "text": [
      "3\n"
     ]
    }
   ],
   "source": [
    "print(len(thisdict))"
   ]
  },
  {
   "cell_type": "code",
   "execution_count": 18,
   "id": "ce24eb90-669b-49da-ab12-3959b666fa53",
   "metadata": {},
   "outputs": [
    {
     "data": {
      "text/plain": [
       "dict"
      ]
     },
     "execution_count": 18,
     "metadata": {},
     "output_type": "execute_result"
    }
   ],
   "source": [
    "type(thisdict)"
   ]
  },
  {
   "cell_type": "code",
   "execution_count": 19,
   "id": "f44060c6-41c5-4bc8-b640-702c0de7450f",
   "metadata": {},
   "outputs": [
    {
     "name": "stdout",
     "output_type": "stream",
     "text": [
      "{'name': 'John', 'age': 36, 'country': 'Norway'}\n"
     ]
    }
   ],
   "source": [
    "thisdict = dict(name = \"John\", age = 36, country = \"Norway\")\n",
    "print(thisdict)"
   ]
  },
  {
   "cell_type": "code",
   "execution_count": 20,
   "id": "2e4b4783-32ff-418c-a6d6-4db338a0b877",
   "metadata": {},
   "outputs": [],
   "source": [
    "thisdict = {\n",
    "  \"brand\": \"Ford\",\n",
    "  \"model\": \"Mustang\",\n",
    "  \"year\": 1964\n",
    "}\n",
    "x = thisdict[\"model\"]"
   ]
  },
  {
   "cell_type": "code",
   "execution_count": 21,
   "id": "f1a30336-b5e3-4f13-bbe3-837c4868eef2",
   "metadata": {},
   "outputs": [
    {
     "name": "stdout",
     "output_type": "stream",
     "text": [
      "Mustang\n"
     ]
    }
   ],
   "source": [
    "print(x)"
   ]
  },
  {
   "cell_type": "code",
   "execution_count": 22,
   "id": "fa72519b-35d7-4972-bc0e-03bd85422f91",
   "metadata": {},
   "outputs": [],
   "source": [
    "thisdict[\"year\"] = 2018"
   ]
  },
  {
   "cell_type": "code",
   "execution_count": 23,
   "id": "aa474097-a94e-4524-afc6-8a1533c4c69b",
   "metadata": {},
   "outputs": [
    {
     "name": "stdout",
     "output_type": "stream",
     "text": [
      "{'brand': 'Ford', 'model': 'Mustang', 'year': 2018}\n"
     ]
    }
   ],
   "source": [
    "print(thisdict)"
   ]
  },
  {
   "cell_type": "code",
   "execution_count": 24,
   "id": "9f2dd42a-0438-48f0-bcc2-37bed70bf5ad",
   "metadata": {},
   "outputs": [
    {
     "name": "stdout",
     "output_type": "stream",
     "text": [
      "{'brand': 'Ford', 'model': 'Mustang', 'year': 2018, 'color': 'red'}\n"
     ]
    }
   ],
   "source": [
    "thisdict.update({\"color\": \"red\"})\n",
    "print(thisdict)"
   ]
  },
  {
   "cell_type": "markdown",
   "id": "50d69d7b-256b-412c-b89f-53ae49685d78",
   "metadata": {
    "jp-MarkdownHeadingCollapsed": true
   },
   "source": [
    "## Nested Dictionaries\n"
   ]
  },
  {
   "cell_type": "code",
   "execution_count": 25,
   "id": "2d4badab-3852-461f-a9dc-4024a3771611",
   "metadata": {},
   "outputs": [],
   "source": [
    "myfamily = {\n",
    "  \"child1\" : {\n",
    "    \"name\" : \"Emil\",\n",
    "    \"year\" : 2004\n",
    "  },\n",
    "  \"child2\" : {\n",
    "    \"name\" : \"Tobias\",\n",
    "    \"year\" : 2007\n",
    "  },\n",
    "  \"child3\" : {\n",
    "    \"name\" : \"Linus\",\n",
    "    \"year\" : 2011\n",
    "  }\n",
    "}"
   ]
  },
  {
   "cell_type": "code",
   "execution_count": 26,
   "id": "67557c16-1ab2-4ff4-a3e9-a3ffd034132a",
   "metadata": {},
   "outputs": [
    {
     "name": "stdout",
     "output_type": "stream",
     "text": [
      "{'child1': {'name': 'Emil', 'year': 2004}, 'child2': {'name': 'Tobias', 'year': 2007}, 'child3': {'name': 'Linus', 'year': 2011}}\n"
     ]
    }
   ],
   "source": [
    "print(myfamily)"
   ]
  },
  {
   "cell_type": "code",
   "execution_count": 27,
   "id": "390d92e8-2341-4f93-af2e-25b8a18574eb",
   "metadata": {},
   "outputs": [
    {
     "name": "stdout",
     "output_type": "stream",
     "text": [
      "Tobias\n"
     ]
    }
   ],
   "source": [
    "## Accessing the nested dictionaries \n",
    "print(myfamily[\"child2\"][\"name\"])\n"
   ]
  },
  {
   "cell_type": "code",
   "execution_count": 6,
   "id": "32e33890-d4aa-4c13-861c-3209bca8642c",
   "metadata": {},
   "outputs": [
    {
     "name": "stdout",
     "output_type": "stream",
     "text": [
      "child1\n",
      "name: Emil\n",
      "year: 2004\n",
      "child2\n",
      "name: Tobias\n",
      "year: 2007\n",
      "child3\n",
      "name: Linus\n",
      "year: 2011\n"
     ]
    }
   ],
   "source": [
    "child1 = {\n",
    "  \"name\" : \"Emil\",\n",
    "  \"year\" : 2004\n",
    "}\n",
    "child2 = {\n",
    "  \"name\" : \"Tobias\",\n",
    "  \"year\" : 2007\n",
    "}\n",
    "child3 = {\n",
    "  \"name\" : \"Linus\",\n",
    "  \"year\" : 2011\n",
    "}\n",
    "\n",
    "myfamily = {\n",
    "  \"child1\" : child1,\n",
    "  \"child2\" : child2,\n",
    "  \"child3\" : child3\n",
    "}\n",
    "for x, obj in myfamily.items():\n",
    "  print(x)\n",
    "\n",
    "  for y in obj:\n",
    "    print(y + ':', obj[y])\n"
   ]
  },
  {
   "cell_type": "markdown",
   "id": "0b42dc32-3505-4129-a1ad-43023fc99491",
   "metadata": {},
   "source": [
    "## python If ... else\n"
   ]
  },
  {
   "cell_type": "code",
   "execution_count": 7,
   "id": "57c7be75-d690-49a4-9c21-d8d6de91b2e9",
   "metadata": {},
   "outputs": [
    {
     "name": "stdout",
     "output_type": "stream",
     "text": [
      "b is greater than a\n"
     ]
    }
   ],
   "source": [
    "a=33\n",
    "b=300\n",
    "if b>a:\n",
    "    print(\"b is greater than a\")\n",
    "    "
   ]
  },
  {
   "cell_type": "code",
   "execution_count": 8,
   "id": "7e698a85-acf3-43df-a3c1-62a9f1253162",
   "metadata": {},
   "outputs": [
    {
     "name": "stdout",
     "output_type": "stream",
     "text": [
      "a and b are equal\n"
     ]
    }
   ],
   "source": [
    "a = 33\n",
    "b = 33\n",
    "if b > a:\n",
    "  print(\"b is greater than a\")\n",
    "elif a == b:\n",
    "  print(\"a and b are equal\")"
   ]
  },
  {
   "cell_type": "code",
   "execution_count": 9,
   "id": "e4bd8d7e-46e1-435f-858e-d446a5c353bd",
   "metadata": {},
   "outputs": [],
   "source": [
    "if b>a:\n",
    "    pass\n",
    "    "
   ]
  },
  {
   "cell_type": "code",
   "execution_count": 10,
   "id": "7248ac3f-a1f3-44a7-8493-fa601ebfdae5",
   "metadata": {},
   "outputs": [
    {
     "name": "stdout",
     "output_type": "stream",
     "text": [
      "Thursday\n"
     ]
    }
   ],
   "source": [
    "## python match statement \n",
    "day = 4\n",
    "match day:\n",
    "  case 1:\n",
    "    print(\"Monday\")\n",
    "  case 2:\n",
    "    print(\"Tuesday\")\n",
    "  case 3:\n",
    "    print(\"Wednesday\")\n",
    "  case 4:\n",
    "    print(\"Thursday\")\n",
    "  case 5:\n",
    "    print(\"Friday\")\n",
    "  case 6:\n",
    "    print(\"Saturday\")\n",
    "  case 7:\n",
    "    print(\"Sunday\")"
   ]
  },
  {
   "cell_type": "code",
   "execution_count": 11,
   "id": "630fd9ff-d0de-46fe-b33e-04fdfe8dafc6",
   "metadata": {},
   "outputs": [
    {
     "name": "stdout",
     "output_type": "stream",
     "text": [
      "Looking forward to the Weekend\n"
     ]
    }
   ],
   "source": [
    "day = 4\n",
    "match day:\n",
    "  case 6:\n",
    "    print(\"Today is Saturday\")\n",
    "  case 7:\n",
    "    print(\"Today is Sunday\")\n",
    "  case _:\n",
    "    print(\"Looking forward to the Weekend\")"
   ]
  },
  {
   "cell_type": "code",
   "execution_count": 12,
   "id": "68c75ad8-e5d3-4e47-aa63-0fcd6fd2ef3f",
   "metadata": {},
   "outputs": [
    {
     "name": "stdout",
     "output_type": "stream",
     "text": [
      "Today is a weekday\n"
     ]
    }
   ],
   "source": [
    "day = 4\n",
    "match day:\n",
    "  case 1 | 2 | 3 | 4 | 5:\n",
    "    print(\"Today is a weekday\")\n",
    "  case 6 | 7:\n",
    "    print(\"I love weekends!\")"
   ]
  },
  {
   "cell_type": "code",
   "execution_count": 14,
   "id": "fd5af00e-d430-47a8-b64c-b2bf5c630a8a",
   "metadata": {},
   "outputs": [
    {
     "name": "stdout",
     "output_type": "stream",
     "text": [
      "No match\n"
     ]
    }
   ],
   "source": [
    "month = 5\n",
    "day = 0\n",
    "match day:\n",
    "  case 1 | 2 | 3 | 4 | 5 if month == 4:\n",
    "    print(\"A weekday in April\")\n",
    "  case 1 | 2 | 3 | 4 | 5 if month == 5:\n",
    "    print(\"A weekday in May\")\n",
    "  case _:\n",
    "    print(\"No match\")"
   ]
  },
  {
   "cell_type": "code",
   "execution_count": 15,
   "id": "fe1ef29f-4f5e-4a16-b2e8-be46cffb56a1",
   "metadata": {},
   "outputs": [
    {
     "name": "stdout",
     "output_type": "stream",
     "text": [
      "1\n",
      "2\n",
      "3\n",
      "4\n",
      "5\n"
     ]
    }
   ],
   "source": [
    "i = 1\n",
    "while i < 6:\n",
    "  print(i)\n",
    "  i += 1"
   ]
  },
  {
   "cell_type": "code",
   "execution_count": 16,
   "id": "2edfa025-c2bd-49ec-af89-e5f51efa8d7e",
   "metadata": {},
   "outputs": [
    {
     "name": "stdout",
     "output_type": "stream",
     "text": [
      "apple\n",
      "banana\n",
      "cherry\n"
     ]
    }
   ],
   "source": [
    "fruits = [\"apple\", \"banana\", \"cherry\"]\n",
    "for x in fruits:\n",
    "  print(x)\n"
   ]
  },
  {
   "cell_type": "code",
   "execution_count": 26,
   "id": "bb569d45-33df-4473-869c-4aec391e14c7",
   "metadata": {},
   "outputs": [
    {
     "name": "stdout",
     "output_type": "stream",
     "text": [
      "the youngest child is sagar\n"
     ]
    }
   ],
   "source": [
    "def myfunction(*kids):\n",
    "    print(\"the youngest child is \"+kids[2])\n",
    "myfunction(\"denis\",\"samir\",\"sagar\")"
   ]
  },
  {
   "cell_type": "code",
   "execution_count": 32,
   "id": "409f28dc-a10a-4243-94de-00073fc7bed1",
   "metadata": {},
   "outputs": [
    {
     "ename": "TypeError",
     "evalue": "myfunction() got an unexpected keyword argument 'child1'",
     "output_type": "error",
     "traceback": [
      "\u001b[1;31m---------------------------------------------------------------------------\u001b[0m",
      "\u001b[1;31mTypeError\u001b[0m                                 Traceback (most recent call last)",
      "Cell \u001b[1;32mIn[32], line 1\u001b[0m\n\u001b[1;32m----> 1\u001b[0m \u001b[43mmyfunction\u001b[49m\u001b[43m(\u001b[49m\u001b[43mchild1\u001b[49m\u001b[43m \u001b[49m\u001b[38;5;241;43m=\u001b[39;49m\u001b[43m \u001b[49m\u001b[38;5;124;43m\"\u001b[39;49m\u001b[38;5;124;43mEmil\u001b[39;49m\u001b[38;5;124;43m\"\u001b[39;49m\u001b[43m,\u001b[49m\u001b[43m \u001b[49m\u001b[43mchild2\u001b[49m\u001b[43m \u001b[49m\u001b[38;5;241;43m=\u001b[39;49m\u001b[43m \u001b[49m\u001b[38;5;124;43m\"\u001b[39;49m\u001b[38;5;124;43mTobias\u001b[39;49m\u001b[38;5;124;43m\"\u001b[39;49m\u001b[43m,\u001b[49m\u001b[43m \u001b[49m\u001b[43mchild3\u001b[49m\u001b[43m \u001b[49m\u001b[38;5;241;43m=\u001b[39;49m\u001b[43m \u001b[49m\u001b[38;5;124;43m\"\u001b[39;49m\u001b[38;5;124;43mLinus\u001b[39;49m\u001b[38;5;124;43m\"\u001b[39;49m\u001b[43m)\u001b[49m\n\u001b[0;32m      2\u001b[0m \u001b[38;5;28;01mdef\u001b[39;00m \u001b[38;5;21mmyfunction\u001b[39m(child1,child2,child3):\n\u001b[0;32m      3\u001b[0m     \u001b[38;5;28mprint\u001b[39m(\u001b[38;5;124m\"\u001b[39m\u001b[38;5;124mthe youngest child is \u001b[39m\u001b[38;5;124m\"\u001b[39m\u001b[38;5;241m+\u001b[39mchild2)\n",
      "\u001b[1;31mTypeError\u001b[0m: myfunction() got an unexpected keyword argument 'child1'"
     ]
    }
   ],
   "source": [
    "myfunction(child1 = \"Emil\", child2 = \"Tobias\", child3 = \"Linus\")\n",
    "def myfunction(child1, child2, child3):\n",
    "    print(\"the youngest child is \"+child2)\n"
   ]
  },
  {
   "cell_type": "code",
   "execution_count": 33,
   "id": "f0d676a1-1974-4759-8902-a68e096149fa",
   "metadata": {},
   "outputs": [
    {
     "name": "stdout",
     "output_type": "stream",
     "text": [
      "The youngest child is Linus\n"
     ]
    }
   ],
   "source": [
    "def my_function(child3, child2, child1):\n",
    "  print(\"The youngest child is \" + child3)\n",
    "\n",
    "my_function(child1 = \"Emil\", child2 = \"Tobias\", child3 = \"Linus\")"
   ]
  },
  {
   "cell_type": "code",
   "execution_count": 34,
   "id": "0ced84d7-e28c-4b1e-aeec-76b955b5dbb7",
   "metadata": {},
   "outputs": [
    {
     "name": "stdout",
     "output_type": "stream",
     "text": [
      "(1, 2, 3)\n",
      "{'a': 10, 'b': 20}\n"
     ]
    }
   ],
   "source": [
    "def demo(*args, **kwargs):\n",
    "    print(args)\n",
    "    print(kwargs)\n",
    "\n",
    "demo(1, 2, 3, a=10, b=20)\n"
   ]
  },
  {
   "cell_type": "markdown",
   "id": "f1305b5e-856a-4534-8d03-aa72cf4c656e",
   "metadata": {},
   "source": [
    "# Classes and object "
   ]
  },
  {
   "cell_type": "code",
   "execution_count": 2,
   "id": "771f0684-afd3-4cc6-8ae6-d79c7a50c2a8",
   "metadata": {},
   "outputs": [
    {
     "name": "stdout",
     "output_type": "stream",
     "text": [
      "5\n"
     ]
    }
   ],
   "source": [
    "class MyClass:\n",
    "  x = 5\n",
    "p1 = MyClass()\n",
    "print(p1.x)"
   ]
  },
  {
   "cell_type": "code",
   "execution_count": 3,
   "id": "1afe5764-72b3-4045-a156-9d2b60cee09c",
   "metadata": {},
   "outputs": [
    {
     "name": "stdout",
     "output_type": "stream",
     "text": [
      "John Doe\n"
     ]
    }
   ],
   "source": [
    "class Person:\n",
    "  def __init__(self, fname, lname):\n",
    "    self.firstname = fname\n",
    "    self.lastname = lname\n",
    "\n",
    "  def printname(self):\n",
    "    print(self.firstname, self.lastname)\n",
    "\n",
    "#Use the Person class to create an object, and then execute the printname method:\n",
    "\n",
    "x = Person(\"John\", \"Doe\")\n",
    "x.printname()"
   ]
  },
  {
   "cell_type": "code",
   "execution_count": 5,
   "id": "7f0f04c8-6d77-4bb2-9a17-f5b455f63437",
   "metadata": {},
   "outputs": [
    {
     "name": "stdout",
     "output_type": "stream",
     "text": [
      "An expection occured\n"
     ]
    }
   ],
   "source": [
    "try:\n",
    "    print(d)\n",
    "except:\n",
    "    print(\"An expection occured\")\n",
    "    "
   ]
  },
  {
   "cell_type": "code",
   "execution_count": null,
   "id": "ddc893ce-ca5d-4fe9-a9b1-c4e0e5439925",
   "metadata": {},
   "outputs": [],
   "source": [
    "try:\n",
    "  print(\"Hello\")\n",
    "except:\n",
    "  print(\"Something went wrong\")\n",
    "else:\n",
    "  print(\"Nothing went wrong\")\n"
   ]
  },
  {
   "cell_type": "code",
   "execution_count": 6,
   "id": "14f3cdc1-68fb-4152-94ab-4830e3018310",
   "metadata": {},
   "outputs": [
    {
     "name": "stdout",
     "output_type": "stream",
     "text": [
      "Enter your name:\n"
     ]
    },
    {
     "name": "stdin",
     "output_type": "stream",
     "text": [
      " Denish Raj Timilsena \n"
     ]
    },
    {
     "name": "stdout",
     "output_type": "stream",
     "text": [
      "Hello Denish Raj Timilsena \n"
     ]
    }
   ],
   "source": [
    "print(\"Enter your name:\")\n",
    "name = input()\n",
    "print(f\"Hello {name}\")"
   ]
  },
  {
   "cell_type": "code",
   "execution_count": 7,
   "id": "a9928375-c8ae-46a7-9acb-d5c7914dd45d",
   "metadata": {},
   "outputs": [
    {
     "name": "stdin",
     "output_type": "stream",
     "text": [
      "Enter your name: Denis\n"
     ]
    },
    {
     "name": "stdout",
     "output_type": "stream",
     "text": [
      "Hello Denis\n"
     ]
    },
    {
     "name": "stdin",
     "output_type": "stream",
     "text": [
      "What is your favorite animal: cat\n",
      "What is your favorite color: yellow\n",
      "What is your favorite number: 7\n"
     ]
    },
    {
     "name": "stdout",
     "output_type": "stream",
     "text": [
      "Do you want a yellow cat with 7 legs?\n"
     ]
    }
   ],
   "source": [
    "name = input(\"Enter your name:\")\n",
    "print(f\"Hello {name}\")\n",
    "fav1 = input(\"What is your favorite animal:\")\n",
    "fav2 = input(\"What is your favorite color:\")\n",
    "fav3 = input(\"What is your favorite number:\")\n",
    "print(f\"Do you want a {fav2} {fav1} with {fav3} legs?\")"
   ]
  },
  {
   "cell_type": "markdown",
   "id": "37643957-0cb1-43b2-9895-b42a9e188a6c",
   "metadata": {},
   "source": [
    "# File Handling"
   ]
  },
  {
   "cell_type": "markdown",
   "id": "f04f962c-2854-4ee1-9664-73026d7149c3",
   "metadata": {},
   "source": [
    "The key function for working with files in Python is the open() function.\n",
    "\n",
    "The open() function takes two parameters; filename, and mode.\n",
    "\n",
    "There are four different methods (modes) for opening a file:\n",
    "\n",
    "\"r\" - Read - Default value. Opens a file for reading, error if the file does not exist\n",
    "\n",
    "\"a\" - Append - Opens a file for appending, creates the file if it does not exist\n",
    "\n",
    "\"w\" - Write - Opens a file for writing, creates the file if it does not exist\n",
    "\n",
    "\"x\" - Create - Creates the specified file, returns an error if the file exists\n",
    "\n",
    "In addition you can specify if the file should be handled as binary or text mode\n",
    "\n",
    "\"t\" - Text - Default value. Text mode\n",
    "\n",
    "\"b\" - Binary - Binary mode (e.g. images)"
   ]
  },
  {
   "cell_type": "code",
   "execution_count": 10,
   "id": "aeb809d8-d548-458a-b78a-71ca2ce95827",
   "metadata": {},
   "outputs": [
    {
     "ename": "FileNotFoundError",
     "evalue": "[Errno 2] No such file or directory: 'demofile.txt'",
     "output_type": "error",
     "traceback": [
      "\u001b[1;31m-----------------------------------------------------------------------\u001b[0m",
      "\u001b[1;31mFileNotFoundError\u001b[0m                     Traceback (most recent call last)",
      "Cell \u001b[1;32mIn[10], line 2\u001b[0m\n\u001b[0;32m      1\u001b[0m \u001b[38;5;66;03m## Read files \u001b[39;00m\n\u001b[1;32m----> 2\u001b[0m f\u001b[38;5;241m=\u001b[39m\u001b[38;5;28;43mopen\u001b[39;49m\u001b[43m(\u001b[49m\u001b[38;5;124;43m\"\u001b[39;49m\u001b[38;5;124;43mdemofile.txt\u001b[39;49m\u001b[38;5;124;43m\"\u001b[39;49m\u001b[43m)\u001b[49m\n\u001b[0;32m      3\u001b[0m \u001b[38;5;28mprint\u001b[39m(f\u001b[38;5;241m.\u001b[39mread())\n",
      "File \u001b[1;32m~\\AppData\\Local\\Programs\\Python\\Python312\\Lib\\site-packages\\IPython\\core\\interactiveshell.py:310\u001b[0m, in \u001b[0;36m_modified_open\u001b[1;34m(file, *args, **kwargs)\u001b[0m\n\u001b[0;32m    303\u001b[0m \u001b[38;5;28;01mif\u001b[39;00m file \u001b[38;5;129;01min\u001b[39;00m {\u001b[38;5;241m0\u001b[39m, \u001b[38;5;241m1\u001b[39m, \u001b[38;5;241m2\u001b[39m}:\n\u001b[0;32m    304\u001b[0m     \u001b[38;5;28;01mraise\u001b[39;00m \u001b[38;5;167;01mValueError\u001b[39;00m(\n\u001b[0;32m    305\u001b[0m         \u001b[38;5;124mf\u001b[39m\u001b[38;5;124m\"\u001b[39m\u001b[38;5;124mIPython won\u001b[39m\u001b[38;5;124m'\u001b[39m\u001b[38;5;124mt let you open fd=\u001b[39m\u001b[38;5;132;01m{\u001b[39;00mfile\u001b[38;5;132;01m}\u001b[39;00m\u001b[38;5;124m by default \u001b[39m\u001b[38;5;124m\"\u001b[39m\n\u001b[0;32m    306\u001b[0m         \u001b[38;5;124m\"\u001b[39m\u001b[38;5;124mas it is likely to crash IPython. If you know what you are doing, \u001b[39m\u001b[38;5;124m\"\u001b[39m\n\u001b[0;32m    307\u001b[0m         \u001b[38;5;124m\"\u001b[39m\u001b[38;5;124myou can use builtins\u001b[39m\u001b[38;5;124m'\u001b[39m\u001b[38;5;124m open.\u001b[39m\u001b[38;5;124m\"\u001b[39m\n\u001b[0;32m    308\u001b[0m     )\n\u001b[1;32m--> 310\u001b[0m \u001b[38;5;28;01mreturn\u001b[39;00m \u001b[43mio_open\u001b[49m\u001b[43m(\u001b[49m\u001b[43mfile\u001b[49m\u001b[43m,\u001b[49m\u001b[43m \u001b[49m\u001b[38;5;241;43m*\u001b[39;49m\u001b[43margs\u001b[49m\u001b[43m,\u001b[49m\u001b[43m \u001b[49m\u001b[38;5;241;43m*\u001b[39;49m\u001b[38;5;241;43m*\u001b[39;49m\u001b[43mkwargs\u001b[49m\u001b[43m)\u001b[49m\n",
      "\u001b[1;31mFileNotFoundError\u001b[0m: [Errno 2] No such file or directory: 'demofile.txt'"
     ]
    }
   ],
   "source": [
    "## Read files \n",
    "f=open(\"demofile.txt\")\n",
    "print(f.read())"
   ]
  },
  {
   "cell_type": "code",
   "execution_count": 11,
   "id": "95973f34-6b51-427f-a139-72396b5a97bb",
   "metadata": {},
   "outputs": [
    {
     "ename": "FileNotFoundError",
     "evalue": "[Errno 2] No such file or directory: 'demofile.txt'",
     "output_type": "error",
     "traceback": [
      "\u001b[1;31m-----------------------------------------------------------------------\u001b[0m",
      "\u001b[1;31mFileNotFoundError\u001b[0m                     Traceback (most recent call last)",
      "Cell \u001b[1;32mIn[11], line 1\u001b[0m\n\u001b[1;32m----> 1\u001b[0m \u001b[38;5;28;01mwith\u001b[39;00m \u001b[38;5;28;43mopen\u001b[39;49m\u001b[43m(\u001b[49m\u001b[38;5;124;43m\"\u001b[39;49m\u001b[38;5;124;43mdemofile.txt\u001b[39;49m\u001b[38;5;124;43m\"\u001b[39;49m\u001b[43m)\u001b[49m \u001b[38;5;28;01mas\u001b[39;00m f:\n\u001b[0;32m      2\u001b[0m     \u001b[38;5;28mprint\u001b[39m(f\u001b[38;5;241m.\u001b[39mread)\n",
      "File \u001b[1;32m~\\AppData\\Local\\Programs\\Python\\Python312\\Lib\\site-packages\\IPython\\core\\interactiveshell.py:310\u001b[0m, in \u001b[0;36m_modified_open\u001b[1;34m(file, *args, **kwargs)\u001b[0m\n\u001b[0;32m    303\u001b[0m \u001b[38;5;28;01mif\u001b[39;00m file \u001b[38;5;129;01min\u001b[39;00m {\u001b[38;5;241m0\u001b[39m, \u001b[38;5;241m1\u001b[39m, \u001b[38;5;241m2\u001b[39m}:\n\u001b[0;32m    304\u001b[0m     \u001b[38;5;28;01mraise\u001b[39;00m \u001b[38;5;167;01mValueError\u001b[39;00m(\n\u001b[0;32m    305\u001b[0m         \u001b[38;5;124mf\u001b[39m\u001b[38;5;124m\"\u001b[39m\u001b[38;5;124mIPython won\u001b[39m\u001b[38;5;124m'\u001b[39m\u001b[38;5;124mt let you open fd=\u001b[39m\u001b[38;5;132;01m{\u001b[39;00mfile\u001b[38;5;132;01m}\u001b[39;00m\u001b[38;5;124m by default \u001b[39m\u001b[38;5;124m\"\u001b[39m\n\u001b[0;32m    306\u001b[0m         \u001b[38;5;124m\"\u001b[39m\u001b[38;5;124mas it is likely to crash IPython. If you know what you are doing, \u001b[39m\u001b[38;5;124m\"\u001b[39m\n\u001b[0;32m    307\u001b[0m         \u001b[38;5;124m\"\u001b[39m\u001b[38;5;124myou can use builtins\u001b[39m\u001b[38;5;124m'\u001b[39m\u001b[38;5;124m open.\u001b[39m\u001b[38;5;124m\"\u001b[39m\n\u001b[0;32m    308\u001b[0m     )\n\u001b[1;32m--> 310\u001b[0m \u001b[38;5;28;01mreturn\u001b[39;00m \u001b[43mio_open\u001b[49m\u001b[43m(\u001b[49m\u001b[43mfile\u001b[49m\u001b[43m,\u001b[49m\u001b[43m \u001b[49m\u001b[38;5;241;43m*\u001b[39;49m\u001b[43margs\u001b[49m\u001b[43m,\u001b[49m\u001b[43m \u001b[49m\u001b[38;5;241;43m*\u001b[39;49m\u001b[38;5;241;43m*\u001b[39;49m\u001b[43mkwargs\u001b[49m\u001b[43m)\u001b[49m\n",
      "\u001b[1;31mFileNotFoundError\u001b[0m: [Errno 2] No such file or directory: 'demofile.txt'"
     ]
    }
   ],
   "source": [
    "with open(\"demofile.txt\") as f:\n",
    "    print(f.read)"
   ]
  },
  {
   "cell_type": "code",
   "execution_count": 18,
   "id": "e7125376-4412-443a-a1b4-bbbab0471af8",
   "metadata": {},
   "outputs": [],
   "source": [
    "with open(\"demofile.txt\", \"a\") as f:\n",
    "  f.write(\"Now the file has more content!\")"
   ]
  },
  {
   "cell_type": "code",
   "execution_count": 23,
   "id": "1ffb2133-3f25-4105-b035-c473bd7af7d7",
   "metadata": {},
   "outputs": [
    {
     "name": "stdout",
     "output_type": "stream",
     "text": [
      "Now the file has more content!Now the file has more content!Now the file has more content!\n"
     ]
    }
   ],
   "source": [
    "with open(\"demofile.txt\") as f:\n",
    "  print(f.read())"
   ]
  },
  {
   "cell_type": "code",
   "execution_count": null,
   "id": "369a3e8d-3901-41ea-bd2c-73177c61ba5f",
   "metadata": {},
   "outputs": [],
   "source": []
  }
 ],
 "metadata": {
  "kernelspec": {
   "display_name": "Python 3 (ipykernel)",
   "language": "python",
   "name": "python3"
  },
  "language_info": {
   "codemirror_mode": {
    "name": "ipython",
    "version": 3
   },
   "file_extension": ".py",
   "mimetype": "text/x-python",
   "name": "python",
   "nbconvert_exporter": "python",
   "pygments_lexer": "ipython3",
   "version": "3.12.1"
  }
 },
 "nbformat": 4,
 "nbformat_minor": 5
}
