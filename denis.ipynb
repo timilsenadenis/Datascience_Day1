{
 "cells": [
  {
   "cell_type": "markdown",
   "id": "62bfded0-364c-4072-8ef7-7a3d3b3363c6",
   "metadata": {
    "jp-MarkdownHeadingCollapsed": true
   },
   "source": [
    "## DAY 3\n"
   ]
  },
  {
   "cell_type": "markdown",
   "id": "634465c5-5d77-42b1-a560-1e4a8340d084",
   "metadata": {},
   "source": [
    "### Round Method\n"
   ]
  },
  {
   "cell_type": "code",
   "execution_count": 1,
   "id": "4d956c7c-53b0-41f3-84ac-1928401e0f41",
   "metadata": {},
   "outputs": [
    {
     "data": {
      "text/plain": [
       "12"
      ]
     },
     "execution_count": 1,
     "metadata": {},
     "output_type": "execute_result"
    }
   ],
   "source": [
    "round(12.232312)"
   ]
  },
  {
   "cell_type": "markdown",
   "id": "35c3a3b0-b88f-4f38-97e4-fc58c3eef1cf",
   "metadata": {
    "jp-MarkdownHeadingCollapsed": true
   },
   "source": [
    "## String type\n"
   ]
  },
  {
   "cell_type": "code",
   "execution_count": 8,
   "id": "7d42511e-73ac-45eb-989b-93278641f254",
   "metadata": {},
   "outputs": [
    {
     "data": {
      "text/plain": [
       "str"
      ]
     },
     "execution_count": 8,
     "metadata": {},
     "output_type": "execute_result"
    }
   ],
   "source": [
    "a='hELLo'\n",
    "b=\"denis\"\n",
    "type(a)\n",
    "type(b)"
   ]
  },
  {
   "cell_type": "code",
   "execution_count": 3,
   "id": "c39e6854-8290-49c5-b30e-3480265f5c71",
   "metadata": {},
   "outputs": [
    {
     "name": "stdout",
     "output_type": "stream",
     "text": [
      "hello\n"
     ]
    }
   ],
   "source": [
    "print(a)\n"
   ]
  },
  {
   "cell_type": "code",
   "execution_count": 4,
   "id": "ba61d137-60a2-461a-838c-52bb2c831f59",
   "metadata": {},
   "outputs": [
    {
     "name": "stdout",
     "output_type": "stream",
     "text": [
      "<class 'str'>\n"
     ]
    }
   ],
   "source": [
    "print(type(a))\n",
    "\n"
   ]
  },
  {
   "cell_type": "markdown",
   "id": "4608d409-9d0d-4e1f-874e-b36872f217b9",
   "metadata": {
    "jp-MarkdownHeadingCollapsed": true
   },
   "source": [
    "## string concatenation\n",
    "\n"
   ]
  },
  {
   "cell_type": "code",
   "execution_count": 5,
   "id": "035752ad-cb5a-4c1e-a209-68bb2295deb5",
   "metadata": {},
   "outputs": [
    {
     "data": {
      "text/plain": [
       "'hellodenis'"
      ]
     },
     "execution_count": 5,
     "metadata": {},
     "output_type": "execute_result"
    }
   ],
   "source": [
    "a+b\n"
   ]
  },
  {
   "cell_type": "code",
   "execution_count": 6,
   "id": "f5278cca-28d7-4d68-a941-b4fa03ad50ff",
   "metadata": {},
   "outputs": [
    {
     "name": "stdout",
     "output_type": "stream",
     "text": [
      "hello denis\n"
     ]
    }
   ],
   "source": [
    "print(a,b)\n"
   ]
  },
  {
   "cell_type": "markdown",
   "id": "d186f28b-ad28-4082-b33d-5df68cc5d04e",
   "metadata": {
    "jp-MarkdownHeadingCollapsed": true
   },
   "source": [
    "## String methods\n"
   ]
  },
  {
   "cell_type": "code",
   "execution_count": 7,
   "id": "f29b8454-93b9-44fa-85ed-28b7113485cd",
   "metadata": {},
   "outputs": [
    {
     "data": {
      "text/plain": [
       "'hello'"
      ]
     },
     "execution_count": 7,
     "metadata": {},
     "output_type": "execute_result"
    }
   ],
   "source": [
    "a.lower()"
   ]
  },
  {
   "cell_type": "code",
   "execution_count": 9,
   "id": "33f4126d-22bd-455e-ba3c-acdcdd98bc66",
   "metadata": {},
   "outputs": [
    {
     "data": {
      "text/plain": [
       "'hello'"
      ]
     },
     "execution_count": 9,
     "metadata": {},
     "output_type": "execute_result"
    }
   ],
   "source": [
    "a.lower()"
   ]
  },
  {
   "cell_type": "code",
   "execution_count": 10,
   "id": "6f60dbe8-d635-4812-8ac5-0d69933d27d5",
   "metadata": {},
   "outputs": [
    {
     "data": {
      "text/plain": [
       "'Hello'"
      ]
     },
     "execution_count": 10,
     "metadata": {},
     "output_type": "execute_result"
    }
   ],
   "source": [
    "a.title()"
   ]
  },
  {
   "cell_type": "code",
   "execution_count": 11,
   "id": "dc0603db-309d-4f59-be1f-d4786350fba3",
   "metadata": {},
   "outputs": [
    {
     "data": {
      "text/plain": [
       "'HELLO'"
      ]
     },
     "execution_count": 11,
     "metadata": {},
     "output_type": "execute_result"
    }
   ],
   "source": [
    "a.upper()"
   ]
  },
  {
   "cell_type": "code",
   "execution_count": 12,
   "id": "971ddf06-1162-4065-bfc0-cec3f35b569c",
   "metadata": {},
   "outputs": [
    {
     "name": "stdout",
     "output_type": "stream",
     "text": [
      "hELLo\n"
     ]
    }
   ],
   "source": [
    "print(a)"
   ]
  },
  {
   "cell_type": "markdown",
   "id": "31d2b9e3-ac57-43e8-8123-2c4ba7df5896",
   "metadata": {},
   "source": [
    "###  String Indexing"
   ]
  },
  {
   "cell_type": "code",
   "execution_count": 17,
   "id": "30428901-c13f-4e71-986a-757c3459d5a0",
   "metadata": {},
   "outputs": [
    {
     "data": {
      "text/plain": [
       "4"
      ]
     },
     "execution_count": 17,
     "metadata": {},
     "output_type": "execute_result"
    }
   ],
   "source": [
    " a.index(\"o\")"
   ]
  },
  {
   "cell_type": "code",
   "execution_count": 18,
   "id": "e91834ab-e78a-48b8-8763-0d5de9804cf3",
   "metadata": {},
   "outputs": [
    {
     "data": {
      "text/plain": [
       "10"
      ]
     },
     "execution_count": 18,
     "metadata": {},
     "output_type": "execute_result"
    }
   ],
   "source": [
    "a=\"Hello! My name is Denis Raj Timilsena\"\n",
    "a.index(\"name\")\n"
   ]
  },
  {
   "cell_type": "code",
   "execution_count": 19,
   "id": "30d35ab2-1174-466d-805c-35065b31e511",
   "metadata": {},
   "outputs": [
    {
     "name": "stdout",
     "output_type": "stream",
     "text": [
      "n\n"
     ]
    }
   ],
   "source": [
    "print(a[10])"
   ]
  },
  {
   "cell_type": "markdown",
   "id": "af289104-38bf-40d5-bd1d-1e3a751e513c",
   "metadata": {
    "jp-MarkdownHeadingCollapsed": true
   },
   "source": [
    "## String Formatting"
   ]
  },
  {
   "cell_type": "code",
   "execution_count": 22,
   "id": "309231b2-ed2f-486a-a8d3-e5c404a0065b",
   "metadata": {},
   "outputs": [
    {
     "name": "stdout",
     "output_type": "stream",
     "text": [
      "ld!\n"
     ]
    }
   ],
   "source": [
    "b = \"  Hello, World!  \"\n",
    "print(b[-5:-2])\n",
    "\n"
   ]
  },
  {
   "cell_type": "code",
   "execution_count": 24,
   "id": "9594bc69-b3ae-4c5d-b84c-4a4e83d04289",
   "metadata": {},
   "outputs": [
    {
     "name": "stdout",
     "output_type": "stream",
     "text": [
      "Hello, World!\n"
     ]
    }
   ],
   "source": [
    "print(b.strip())"
   ]
  },
  {
   "cell_type": "code",
   "execution_count": 25,
   "id": "9a1ac92f-7364-48ce-9009-9046872083dd",
   "metadata": {},
   "outputs": [
    {
     "name": "stdout",
     "output_type": "stream",
     "text": [
      "My name is John, I am 36\n"
     ]
    }
   ],
   "source": [
    "age = 36\n",
    "txt = f\"My name is John, I am {age}\"\n",
    "print(txt)\n"
   ]
  },
  {
   "cell_type": "code",
   "execution_count": 26,
   "id": "8d15aa62-320b-4afd-9bfe-94019899ada6",
   "metadata": {},
   "outputs": [],
   "source": [
    "txt=f\"My name is Denish Raj Timilsena, and I am {age} years old\""
   ]
  },
  {
   "cell_type": "code",
   "execution_count": 27,
   "id": "eb816dce-e472-444c-b5ab-cef452031f63",
   "metadata": {},
   "outputs": [
    {
     "name": "stdout",
     "output_type": "stream",
     "text": [
      "My name is Denish Raj Timilsena, and I am 36 years old\n"
     ]
    }
   ],
   "source": [
    "print(txt)"
   ]
  },
  {
   "cell_type": "code",
   "execution_count": 28,
   "id": "5689a80b-dc7b-48ba-8937-105f293f1656",
   "metadata": {},
   "outputs": [],
   "source": [
    "txt = \"We are the so-called \\\"Vikings\\\" from the north.\""
   ]
  },
  {
   "cell_type": "code",
   "execution_count": 29,
   "id": "4aca2204-ecb1-4650-957d-158892b997d3",
   "metadata": {},
   "outputs": [
    {
     "name": "stdout",
     "output_type": "stream",
     "text": [
      "We are the so-called \"Vikings\" from the north.\n"
     ]
    }
   ],
   "source": [
    "print(txt)"
   ]
  },
  {
   "cell_type": "code",
   "execution_count": 34,
   "id": "2bc6eeca-e3c4-41a8-aa34-37471a359649",
   "metadata": {},
   "outputs": [],
   "source": [
    "txt = \"We are the so-called \\'Vikings\\' from the north.\""
   ]
  },
  {
   "cell_type": "code",
   "execution_count": 32,
   "id": "5e263da6-a111-4ad4-a8c9-34a620f42b2f",
   "metadata": {},
   "outputs": [
    {
     "name": "stdout",
     "output_type": "stream",
     "text": [
      "We are the so-called 'Vikings' from the north.\n"
     ]
    }
   ],
   "source": [
    "print(txt)"
   ]
  },
  {
   "cell_type": "code",
   "execution_count": 35,
   "id": "6da23e1a-b5f2-4d22-a3d8-601be1137dca",
   "metadata": {},
   "outputs": [],
   "source": [
    "txt = \"We are the so-called \\r Vikings from the north.\""
   ]
  },
  {
   "cell_type": "code",
   "execution_count": 36,
   "id": "5aef309f-7ecb-4fe5-975f-52708efdfd34",
   "metadata": {},
   "outputs": [
    {
     "name": "stdout",
     "output_type": "stream",
     "text": [
      " Vikings from the north.\n"
     ]
    }
   ],
   "source": [
    "print(txt)"
   ]
  },
  {
   "cell_type": "markdown",
   "id": "587e996b-155f-495e-a74f-e809fd894ccf",
   "metadata": {},
   "source": [
    "### String Slicing\n",
    "#### syntax : string[strat:stop:step]\n"
   ]
  },
  {
   "cell_type": "code",
   "execution_count": 38,
   "id": "e6a6927d-08d8-42b1-8c3a-ea5b49b1b939",
   "metadata": {},
   "outputs": [
    {
     "name": "stdout",
     "output_type": "stream",
     "text": [
      "orl\n"
     ]
    }
   ],
   "source": [
    "b = \"Hello, World!\"\n",
    "print(b[-5:-2])\n",
    "\n"
   ]
  },
  {
   "cell_type": "code",
   "execution_count": 39,
   "id": "bc6d6b2b-e222-4c38-8e3c-0a6909d85542",
   "metadata": {},
   "outputs": [
    {
     "data": {
      "text/plain": [
       "'l,'"
      ]
     },
     "execution_count": 39,
     "metadata": {},
     "output_type": "execute_result"
    }
   ],
   "source": [
    "b[3:6:2]"
   ]
  },
  {
   "cell_type": "markdown",
   "id": "c416019c-e43f-42c7-9013-226b9393ada5",
   "metadata": {},
   "source": [
    "# LISTS"
   ]
  },
  {
   "cell_type": "code",
   "execution_count": 2,
   "id": "baf093db-4080-407e-8f50-77461b1e1c5a",
   "metadata": {},
   "outputs": [
    {
     "name": "stdout",
     "output_type": "stream",
     "text": [
      "['Dneis', 'timilsena', 'raj']\n"
     ]
    }
   ],
   "source": [
    "list=[\"Dneis\", \"timilsena\", \"raj\"]\n",
    "print(list)"
   ]
  },
  {
   "cell_type": "code",
   "execution_count": 1,
   "id": "5eddd71a-ffda-4816-8c18-f45212801b30",
   "metadata": {},
   "outputs": [
    {
     "name": "stdout",
     "output_type": "stream",
     "text": [
      "['apple', 'banana', 'cherry']\n"
     ]
    }
   ],
   "source": [
    "thislist = [\"apple\", \"banana\", \"cherry\"]\n",
    "print(thislist)"
   ]
  },
  {
   "cell_type": "code",
   "execution_count": 3,
   "id": "6cb86f68-8897-48be-a204-33ea1dc9b7e5",
   "metadata": {},
   "outputs": [
    {
     "data": {
      "text/plain": [
       "'Dneis'"
      ]
     },
     "execution_count": 3,
     "metadata": {},
     "output_type": "execute_result"
    }
   ],
   "source": [
    "list[0]"
   ]
  },
  {
   "cell_type": "markdown",
   "id": "5016debb-3f6b-4a88-9bac-c73bf01690f5",
   "metadata": {},
   "source": [
    "Operator\tExample\tSame As\tTry it\n",
    "=\tx = 5\tx = 5\t\n",
    "+=\tx += 3\tx = x + 3\t\n",
    "-=\tx -= 3\tx = x - 3\t\n",
    "*=\tx *= 3\tx = x * 3\t\n",
    "/=\tx /= 3\tx = x / 3\t\n",
    "%=\tx %= 3\tx = x % 3\t\n",
    "//=\tx //= 3\tx = x // 3\t\n",
    "**=\tx **= 3\tx = x ** 3\t\n",
    "&=\tx &= 3\tx = x & 3\t\n",
    "|=\tx |= 3\tx = x | 3\t\n",
    "^=\tx ^= 3\tx = x ^ 3\t\n",
    ">>=\tx >>= 3\tx = x >> 3\t\n",
    "<<=\tx <<= 3\tx = x << 3\t\n",
    ":=\tprint(x := 3)\tx = 3\n",
    "print(x)"
   ]
  },
  {
   "cell_type": "code",
   "execution_count": 5,
   "id": "1095b5ee-c625-41ce-ba44-37747ed5b657",
   "metadata": {},
   "outputs": [],
   "source": [
    "list1 = [\"abc\", 34, True, 40, \"male\"]\n",
    "#List can be any mixture of datatypes "
   ]
  },
  {
   "cell_type": "code",
   "execution_count": 6,
   "id": "58f3e7f7-3b92-43ef-83fe-4a694c8362aa",
   "metadata": {},
   "outputs": [
    {
     "name": "stdout",
     "output_type": "stream",
     "text": [
      "<class 'list'>\n"
     ]
    }
   ],
   "source": [
    "print(type(list1))"
   ]
  },
  {
   "cell_type": "markdown",
   "id": "7fc24cef-e8b2-4226-99d0-90991cc85d37",
   "metadata": {},
   "source": [
    "### List constructor "
   ]
  },
  {
   "cell_type": "code",
   "execution_count": 8,
   "id": "accddd04-3756-44af-b30b-c2551c9e3694",
   "metadata": {},
   "outputs": [
    {
     "name": "stdout",
     "output_type": "stream",
     "text": [
      "['apple', 'banana', 'cherry']\n"
     ]
    }
   ],
   "source": [
    "del list  # because the above declaration of list is overwrite thus the list is not callable \n",
    "\n",
    "thislist = list((\"apple\", \"banana\", \"cherry\")) # note the double round-brackets\n",
    "print(thislist)"
   ]
  },
  {
   "cell_type": "markdown",
   "id": "62651a1f-2f5a-4787-86cf-2ab94088cc74",
   "metadata": {},
   "source": [
    "## Python Collections (Arrays)\n",
    "There are four collection data types in the Python programming language:\n",
    "\n",
    "List is a collection which is ordered and changeable. Allows duplicate members.\n",
    "Tuple is a collection which is ordered and unchangeable. Allows duplicate members.\n",
    "Set is a collection which is unordered, unchangeable*, and unindexed. No duplicate members.\n",
    "Dictionary is a collection which is ordered** and changeable. No duplicate members."
   ]
  },
  {
   "cell_type": "markdown",
   "id": "eb3fa8d1-3467-4eb5-9e5f-9915af2e3399",
   "metadata": {},
   "source": [
    "## Accessing list items "
   ]
  },
  {
   "cell_type": "code",
   "execution_count": 9,
   "id": "8d9784bc-fe92-489a-8d35-3768bdf182d3",
   "metadata": {},
   "outputs": [
    {
     "name": "stdout",
     "output_type": "stream",
     "text": [
      "banana\n"
     ]
    }
   ],
   "source": [
    "denis=[\"apple\", \"banana\", \"cherry\"]\n",
    "print(denis[1])\n"
   ]
  },
  {
   "cell_type": "code",
   "execution_count": 11,
   "id": "8069edfc-7dee-40bc-b194-afc381bc96f1",
   "metadata": {},
   "outputs": [
    {
     "name": "stdout",
     "output_type": "stream",
     "text": [
      "banana\n"
     ]
    }
   ],
   "source": [
    "# Negative Indexing \n",
    "\n",
    "thislist = [\"apple\", \"banana\", \"cherry\"]\n",
    "print(thislist[-2])"
   ]
  },
  {
   "cell_type": "code",
   "execution_count": 12,
   "id": "7cd92d72-8c52-41ec-ae68-a6a8023e8ce3",
   "metadata": {},
   "outputs": [
    {
     "name": "stdout",
     "output_type": "stream",
     "text": [
      "['cherry', 'orange', 'kiwi']\n"
     ]
    }
   ],
   "source": [
    "thislist = [\"apple\", \"banana\", \"cherry\", \"orange\", \"kiwi\", \"melon\", \"mango\"]\n",
    "print(thislist[2:5])"
   ]
  },
  {
   "cell_type": "code",
   "execution_count": 13,
   "id": "dc22762c-1993-4d80-b202-e0e754049bf4",
   "metadata": {},
   "outputs": [],
   "source": [
    "### This is same as slicing in string "
   ]
  },
  {
   "cell_type": "code",
   "execution_count": 14,
   "id": "9fb4789a-e2a7-41ce-ace8-f2bd15fb4531",
   "metadata": {},
   "outputs": [
    {
     "name": "stdout",
     "output_type": "stream",
     "text": [
      "['cherry', 'orange', 'kiwi', 'melon', 'mango']\n"
     ]
    }
   ],
   "source": [
    "thislist = [\"apple\", \"banana\", \"cherry\", \"orange\", \"kiwi\", \"melon\", \"mango\"]\n",
    "print(thislist[2:])"
   ]
  },
  {
   "cell_type": "code",
   "execution_count": 15,
   "id": "ac664129-cf36-4c21-9187-5e554c366278",
   "metadata": {},
   "outputs": [
    {
     "name": "stdout",
     "output_type": "stream",
     "text": [
      "['apple', 'banana', 'cherry', 'orange', 'kiwi']\n"
     ]
    }
   ],
   "source": [
    "thislist = [\"apple\", \"banana\", \"cherry\", \"orange\", \"kiwi\", \"melon\", \"mango\"]\n",
    "print(thislist[:5])"
   ]
  },
  {
   "cell_type": "code",
   "execution_count": 16,
   "id": "8875766d-16c6-419c-9f68-2930a29c6821",
   "metadata": {},
   "outputs": [],
   "source": [
    "# Range of negative indexing "
   ]
  },
  {
   "cell_type": "code",
   "execution_count": 18,
   "id": "221e9ef6-efa0-4998-aa63-8c9b1eaf84a4",
   "metadata": {},
   "outputs": [
    {
     "name": "stdout",
     "output_type": "stream",
     "text": [
      "['cherry', 'orange', 'kiwi']\n"
     ]
    }
   ],
   "source": [
    "thislist = [\"apple\", \"banana\", \"cherry\", \"orange\", \"kiwi\", \"melon\", \"mango\"]\n",
    "print(thislist[-5:-2])"
   ]
  },
  {
   "cell_type": "code",
   "execution_count": 19,
   "id": "bba8a2b1-2d59-466d-acf7-e4eb7419c938",
   "metadata": {},
   "outputs": [
    {
     "name": "stdout",
     "output_type": "stream",
     "text": [
      "Yes, apple in this list \n"
     ]
    }
   ],
   "source": [
    "thislist = [\"apple\", \"banana\", \"cherry\", \"orange\", \"kiwi\", \"melon\", \"mango\"]\n",
    "if \"apple\" in thislist:\n",
    "    print(\"Yes, apple in this list \")\n",
    "    "
   ]
  },
  {
   "cell_type": "code",
   "execution_count": 23,
   "id": "1fd8c4f7-6f82-4a0c-816b-ca2474c1773b",
   "metadata": {},
   "outputs": [
    {
     "name": "stdout",
     "output_type": "stream",
     "text": [
      "3\n"
     ]
    }
   ],
   "source": [
    "thislist = [\"apple\", \"banana\", \"cherry\", \"orange\", \"kiwi\", \"melon\", \"mango\"]\n",
    "if \"orange\" in thislist:\n",
    "    print(thislist.index(\"orange\"))"
   ]
  },
  {
   "cell_type": "markdown",
   "id": "d720ed56-0aa0-4259-aede-1bfa82d196f2",
   "metadata": {},
   "source": [
    "## Changing the list"
   ]
  },
  {
   "cell_type": "code",
   "execution_count": 24,
   "id": "73e0daa7-fb75-4564-ba3f-0f127c899f94",
   "metadata": {},
   "outputs": [
    {
     "name": "stdout",
     "output_type": "stream",
     "text": [
      "['apple', 'blackcurrant', 'cherry']\n"
     ]
    }
   ],
   "source": [
    "thislist = [\"apple\", \"banana\", \"cherry\"]\n",
    "thislist[1] = \"blackcurrant\"\n",
    "print(thislist)"
   ]
  },
  {
   "cell_type": "code",
   "execution_count": 28,
   "id": "8fb902c4-c8fc-408b-a4ff-678d3925a936",
   "metadata": {},
   "outputs": [
    {
     "name": "stdout",
     "output_type": "stream",
     "text": [
      "['apple', 'd', 'e', 'n', 'i', 's', 'cherry']\n"
     ]
    }
   ],
   "source": [
    "thislist = [\"apple\", \"banana\", \"cherry\"]\n",
    "thislist[1:2] = \"denis\"\n",
    "print(thislist)"
   ]
  },
  {
   "cell_type": "code",
   "execution_count": null,
   "id": "7758fdfb-ad6f-4d0c-b819-f88858a001ee",
   "metadata": {},
   "outputs": [],
   "source": [
    "thislist = [\"apple\", \"banana\", \"cherry\"]\n",
    "thislist[1:2] = \"denis\"\n",
    "print(thislist)"
   ]
  },
  {
   "cell_type": "code",
   "execution_count": 29,
   "id": "2bdc012e-d039-4ec2-95b9-d2d5f8cbb3d6",
   "metadata": {},
   "outputs": [
    {
     "name": "stdout",
     "output_type": "stream",
     "text": [
      "['apple', 'banana', 'watermelon', 'cherry']\n"
     ]
    }
   ],
   "source": [
    "## inserting at the position\n",
    "thislist = [\"apple\", \"banana\", \"cherry\"]\n",
    "thislist.insert(2, \"watermelon\")\n",
    "print(thislist)"
   ]
  },
  {
   "cell_type": "code",
   "execution_count": 31,
   "id": "d78aa511-88ad-47f5-b0f2-290e9c21bc6b",
   "metadata": {},
   "outputs": [
    {
     "name": "stdout",
     "output_type": "stream",
     "text": [
      "['apple', 'banana', 'cherry', 'orange']\n"
     ]
    }
   ],
   "source": [
    "thislist = [\"apple\", \"banana\", \"cherry\"]\n",
    "thislist.append(\"orange\")\n",
    "print(thislist)"
   ]
  },
  {
   "cell_type": "code",
   "execution_count": 32,
   "id": "9ac7fe57-3489-4d64-a722-fec8a9359e2e",
   "metadata": {},
   "outputs": [
    {
     "name": "stdout",
     "output_type": "stream",
     "text": [
      "['apple', 'banana', 'cherry', 'mango', 'pineapple', 'papaya']\n"
     ]
    }
   ],
   "source": [
    "## Extending the list (adding another list)\n",
    "\n",
    "thislist = [\"apple\", \"banana\", \"cherry\"]\n",
    "tropical = [\"mango\", \"pineapple\", \"papaya\"]\n",
    "thislist.extend(tropical)\n",
    "print(thislist)"
   ]
  },
  {
   "cell_type": "markdown",
   "id": "1a28f234-fa3f-4f70-9258-0eeebf9e1d85",
   "metadata": {},
   "source": [
    "## Add Any Iterable\n",
    "The extend() method does not have to append lists, you can add any iterable object (tuples, sets, dictionaries etc.)."
   ]
  },
  {
   "cell_type": "code",
   "execution_count": 33,
   "id": "e5f44208-e1a6-40a8-a2d0-1aa8e31b063e",
   "metadata": {},
   "outputs": [
    {
     "name": "stdout",
     "output_type": "stream",
     "text": [
      "['apple', 'banana', 'cherry', 'kiwi', 'orange']\n"
     ]
    }
   ],
   "source": [
    "thislist = [\"apple\", \"banana\", \"cherry\"]\n",
    "thistuple = (\"kiwi\", \"orange\")\n",
    "thislist.extend(thistuple)\n",
    "print(thislist)"
   ]
  },
  {
   "cell_type": "code",
   "execution_count": null,
   "id": "d8a7d7bc-3571-46fd-bbcc-770b651b1faf",
   "metadata": {},
   "outputs": [],
   "source": []
  }
 ],
 "metadata": {
  "kernelspec": {
   "display_name": "Python 3 (ipykernel)",
   "language": "python",
   "name": "python3"
  },
  "language_info": {
   "codemirror_mode": {
    "name": "ipython",
    "version": 3
   },
   "file_extension": ".py",
   "mimetype": "text/x-python",
   "name": "python",
   "nbconvert_exporter": "python",
   "pygments_lexer": "ipython3",
   "version": "3.12.1"
  }
 },
 "nbformat": 4,
 "nbformat_minor": 5
}
