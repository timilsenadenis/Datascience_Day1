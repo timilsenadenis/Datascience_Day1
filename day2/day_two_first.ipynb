{
 "cells": [
  {
   "cell_type": "markdown",
   "id": "5dd16c84-d7a0-4f81-9398-5e5938592bc5",
   "metadata": {},
   "source": [
    "# Numeric Types\n",
    "1.Integer types\n",
    "2.float\n",
    "3.Complex"
   ]
  },
  {
   "cell_type": "code",
   "execution_count": 2,
   "id": "772d4df4-8c3d-4de9-ae85-597c6a98d3ca",
   "metadata": {},
   "outputs": [
    {
     "data": {
      "text/plain": [
       "int"
      ]
     },
     "execution_count": 2,
     "metadata": {},
     "output_type": "execute_result"
    }
   ],
   "source": [
    "a=123\n",
    "type(a)"
   ]
  },
  {
   "cell_type": "markdown",
   "id": "a91e4d6e-9f48-492a-9893-0890aaaa14d5",
   "metadata": {},
   "source": [
    "# Float"
   ]
  },
  {
   "cell_type": "code",
   "execution_count": 3,
   "id": "c24d095a-2c62-44d5-ae4f-3d2f719c4921",
   "metadata": {
    "collapsed": true,
    "jupyter": {
     "outputs_hidden": true
    }
   },
   "outputs": [
    {
     "data": {
      "text/plain": [
       "float"
      ]
     },
     "execution_count": 3,
     "metadata": {},
     "output_type": "execute_result"
    }
   ],
   "source": [
    "b=123.123\n",
    "type(b)"
   ]
  },
  {
   "cell_type": "markdown",
   "id": "096306ed-35e7-4787-9dc4-f9df4db7fbd7",
   "metadata": {},
   "source": [
    "## Complex\n"
   ]
  },
  {
   "cell_type": "code",
   "execution_count": 7,
   "id": "333d123f-eba6-4367-9615-9d0fb2d8b49d",
   "metadata": {
    "scrolled": true
   },
   "outputs": [
    {
     "data": {
      "text/plain": [
       "complex"
      ]
     },
     "execution_count": 7,
     "metadata": {},
     "output_type": "execute_result"
    }
   ],
   "source": [
    "c=1+3j\n",
    "d=complex(1,2)\n",
    "type(c)\n",
    "type(d)"
   ]
  },
  {
   "cell_type": "markdown",
   "id": "0b983acc-c334-4cd6-a447-70bf9175df5d",
   "metadata": {},
   "source": [
    "type(c)"
   ]
  },
  {
   "cell_type": "markdown",
   "id": "96320523-a42b-4cef-b36a-0c3318e7c29a",
   "metadata": {},
   "source": [
    "# Type conversion"
   ]
  },
  {
   "cell_type": "code",
   "execution_count": 8,
   "id": "cff7d1d7-3a5a-4528-a4c6-61ea87635a6a",
   "metadata": {},
   "outputs": [],
   "source": [
    "a=123\n",
    "b=1231.212\n"
   ]
  },
  {
   "cell_type": "code",
   "execution_count": 9,
   "id": "5184689f-1e45-4740-ba9b-638916a2d0f8",
   "metadata": {},
   "outputs": [
    {
     "data": {
      "text/plain": [
       "int"
      ]
     },
     "execution_count": 9,
     "metadata": {},
     "output_type": "execute_result"
    }
   ],
   "source": [
    "type(a)"
   ]
  },
  {
   "cell_type": "code",
   "execution_count": 10,
   "id": "ad55faeb-e967-425d-a75c-6a6698cc9d28",
   "metadata": {},
   "outputs": [
    {
     "data": {
      "text/plain": [
       "float"
      ]
     },
     "execution_count": 10,
     "metadata": {},
     "output_type": "execute_result"
    }
   ],
   "source": [
    "a=float(a)\n",
    "type(a)"
   ]
  },
  {
   "cell_type": "code",
   "execution_count": 11,
   "id": "5071acef-8d67-4a63-816d-a09b9e3117f3",
   "metadata": {},
   "outputs": [
    {
     "name": "stdout",
     "output_type": "stream",
     "text": [
      "123.0\n"
     ]
    }
   ],
   "source": [
    "print(a)\n"
   ]
  },
  {
   "cell_type": "code",
   "execution_count": 18,
   "id": "adf6be71-f533-4621-b9e4-b93936972df9",
   "metadata": {},
   "outputs": [
    {
     "data": {
      "text/plain": [
       "type"
      ]
     },
     "execution_count": 18,
     "metadata": {},
     "output_type": "execute_result"
    }
   ],
   "source": [
    "b=type(b)\n",
    "type(b)"
   ]
  },
  {
   "cell_type": "markdown",
   "id": "b57da982-62ec-489f-8ec6-b9eff4b27e35",
   "metadata": {},
   "source": [
    "# Mathematical Operations"
   ]
  },
  {
   "cell_type": "code",
   "execution_count": 19,
   "id": "f231e00f-7e75-414b-9c6c-ea35d185ab2f",
   "metadata": {},
   "outputs": [],
   "source": [
    "a=234\n",
    "b=345"
   ]
  },
  {
   "cell_type": "code",
   "execution_count": 20,
   "id": "141b47e4-34f4-482d-b8bd-a8316eb88f97",
   "metadata": {},
   "outputs": [
    {
     "data": {
      "text/plain": [
       "579"
      ]
     },
     "execution_count": 20,
     "metadata": {},
     "output_type": "execute_result"
    }
   ],
   "source": [
    "# Addition\n",
    "a+b"
   ]
  },
  {
   "cell_type": "code",
   "execution_count": 21,
   "id": "c9e89ae6-1980-436f-b3d4-2c655048dc6c",
   "metadata": {},
   "outputs": [
    {
     "data": {
      "text/plain": [
       "23959116899037204629064479247538857768156089026694094578181958504840843060556623047944662775185247683714440477847097413763410261002444988309288963070316644433077314852479481816851466324152769481381506533303818352736026849735982658660497523159244946642638803049863063576993728427957720123318151858682859181992008248222339922789322118229557062040896060668038503147630273526645361082220284822825084292060488324947259725294324255736674336449807947068283420418524975340008994768090792105642956777525006736129706141742739738854024180387577452037554133729661151335224084917967625943978893458848317618091344437290313350472977383109990777248141730558186179312494758024852983009346556498248388488318279819916515879351555119391150890531325851557274599521379470738238928026417886870440990653792920301451211362402731604663362125824"
      ]
     },
     "execution_count": 21,
     "metadata": {},
     "output_type": "execute_result"
    }
   ],
   "source": [
    "a**b\n"
   ]
  },
  {
   "cell_type": "code",
   "execution_count": 24,
   "id": "5175813b-9767-40a1-803e-60f59b8e16c6",
   "metadata": {},
   "outputs": [
    {
     "data": {
      "text/plain": [
       "2998219536"
      ]
     },
     "execution_count": 24,
     "metadata": {},
     "output_type": "execute_result"
    }
   ],
   "source": [
    "a**4\n"
   ]
  },
  {
   "cell_type": "code",
   "execution_count": 25,
   "id": "25479bd7-b4e2-4310-994d-cc2cabba7d42",
   "metadata": {},
   "outputs": [
    {
     "data": {
      "text/plain": [
       "0"
      ]
     },
     "execution_count": 25,
     "metadata": {},
     "output_type": "execute_result"
    }
   ],
   "source": [
    "a // b\n"
   ]
  },
  {
   "cell_type": "code",
   "execution_count": 26,
   "id": "7fd69d37-aedf-43d3-8bcc-afe38d73f276",
   "metadata": {},
   "outputs": [
    {
     "data": {
      "text/plain": [
       "1"
      ]
     },
     "execution_count": 26,
     "metadata": {},
     "output_type": "execute_result"
    }
   ],
   "source": [
    "b//a\n"
   ]
  },
  {
   "cell_type": "code",
   "execution_count": 27,
   "id": "cd767f65-7bc1-4fae-8534-607ef4c778e1",
   "metadata": {},
   "outputs": [
    {
     "data": {
      "text/plain": [
       "0.6782608695652174"
      ]
     },
     "execution_count": 27,
     "metadata": {},
     "output_type": "execute_result"
    }
   ],
   "source": [
    "a/b\n"
   ]
  },
  {
   "cell_type": "code",
   "execution_count": 28,
   "id": "d26f21ab-1d92-4991-9ae6-e2e61f61f3c0",
   "metadata": {},
   "outputs": [
    {
     "data": {
      "text/plain": [
       "234"
      ]
     },
     "execution_count": 28,
     "metadata": {},
     "output_type": "execute_result"
    }
   ],
   "source": [
    "a%b"
   ]
  },
  {
   "cell_type": "markdown",
   "id": "4c5c7742-f009-40ba-8db5-750b54b09810",
   "metadata": {},
   "source": [
    "# Methods\n"
   ]
  },
  {
   "cell_type": "code",
   "execution_count": 29,
   "id": "0a1bfbff-ea0c-4077-90a7-f6f16a9cfa04",
   "metadata": {},
   "outputs": [
    {
     "data": {
      "text/plain": [
       "23959116899037204629064479247538857768156089026694094578181958504840843060556623047944662775185247683714440477847097413763410261002444988309288963070316644433077314852479481816851466324152769481381506533303818352736026849735982658660497523159244946642638803049863063576993728427957720123318151858682859181992008248222339922789322118229557062040896060668038503147630273526645361082220284822825084292060488324947259725294324255736674336449807947068283420418524975340008994768090792105642956777525006736129706141742739738854024180387577452037554133729661151335224084917967625943978893458848317618091344437290313350472977383109990777248141730558186179312494758024852983009346556498248388488318279819916515879351555119391150890531325851557274599521379470738238928026417886870440990653792920301451211362402731604663362125824"
      ]
     },
     "execution_count": 29,
     "metadata": {},
     "output_type": "execute_result"
    }
   ],
   "source": [
    "pow(a,b)"
   ]
  },
  {
   "cell_type": "code",
   "execution_count": 30,
   "id": "91a06056-6aa0-47a7-a6cd-fd9ae64d1620",
   "metadata": {},
   "outputs": [
    {
     "data": {
      "text/plain": [
       "4887597965625"
      ]
     },
     "execution_count": 30,
     "metadata": {},
     "output_type": "execute_result"
    }
   ],
   "source": [
    "pow(b,5)\n"
   ]
  },
  {
   "cell_type": "code",
   "execution_count": 31,
   "id": "20423081-ffe3-4751-bf80-2736e2fd1c4c",
   "metadata": {},
   "outputs": [
    {
     "data": {
      "text/plain": [
       "15.297058540778355"
      ]
     },
     "execution_count": 31,
     "metadata": {},
     "output_type": "execute_result"
    }
   ],
   "source": [
    "# Square Root\n",
    "a**(1/2)\n"
   ]
  },
  {
   "cell_type": "code",
   "execution_count": null,
   "id": "0f410dd6-8cdd-45fc-a042-c2b7a93b31c7",
   "metadata": {},
   "outputs": [],
   "source": []
  }
 ],
 "metadata": {
  "kernelspec": {
   "display_name": "Python 3 (ipykernel)",
   "language": "python",
   "name": "python3"
  },
  "language_info": {
   "codemirror_mode": {
    "name": "ipython",
    "version": 3
   },
   "file_extension": ".py",
   "mimetype": "text/x-python",
   "name": "python",
   "nbconvert_exporter": "python",
   "pygments_lexer": "ipython3",
   "version": "3.12.1"
  }
 },
 "nbformat": 4,
 "nbformat_minor": 5
}
